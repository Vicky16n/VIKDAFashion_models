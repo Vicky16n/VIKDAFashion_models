{
  "nbformat": 4,
  "nbformat_minor": 0,
  "metadata": {
    "colab": {
      "provenance": []
    },
    "kernelspec": {
      "name": "python3",
      "display_name": "Python 3"
    },
    "language_info": {
      "name": "python"
    },
    "gpuClass": "premium"
  },
  "cells": [
    {
      "cell_type": "code",
      "source": [
        "from google.colab import drive\n",
        "drive.mount('/content/drive')"
      ],
      "metadata": {
        "colab": {
          "base_uri": "https://localhost:8080/"
        },
        "id": "1N5PGp05fdAD",
        "outputId": "9c56eaa4-d3e6-4aed-823a-f0677e9d4516"
      },
      "execution_count": null,
      "outputs": [
        {
          "output_type": "stream",
          "name": "stdout",
          "text": [
            "Drive already mounted at /content/drive; to attempt to forcibly remount, call drive.mount(\"/content/drive\", force_remount=True).\n"
          ]
        }
      ]
    },
    {
      "cell_type": "code",
      "source": [
        "from array import array\n",
        "import numpy as np\n",
        "from pandas import read_csv\n",
        "from sklearn.model_selection import train_test_split \n",
        "import tensorflow as tf\n",
        "from matplotlib import pyplot as plt\n",
        "import keras\n",
        "from keras import layers\n",
        "from keras.layers import Input, Dense, ConvLSTM2D,Conv2D, Conv2DTranspose,Dropout,Flatten,TimeDistributed,LayerNormalization,MaxPooling2D\n",
        "from keras.models import Model\n",
        "import keras\n",
        "from keras import layers\n",
        "from keras.models import Sequential, load_model\n",
        "from keras.callbacks import EarlyStopping\n",
        "from keras import backend as K\n",
        "from keras.utils import to_categorical\n",
        "from PIL import Image\n"
      ],
      "metadata": {
        "id": "NH-f5NGTuD6c"
      },
      "execution_count": null,
      "outputs": []
    },
    {
      "cell_type": "code",
      "source": [
        "Datos3K=read_csv('/content/drive/MyDrive/Colab Notebooks/Segmentation/3KAutoEncoder.csv',delimiter=',', index_col=False)\n",
        "#Datos3K = array(Datos3K)\n",
        "\n"
      ],
      "metadata": {
        "id": "JbRaVfcGRWuo"
      },
      "execution_count": null,
      "outputs": []
    },
    {
      "cell_type": "code",
      "source": [
        "Datos3K = Datos3K.to_numpy()\n",
        "Datos3K.shape\n"
      ],
      "metadata": {
        "id": "_XQE8HOu2apC",
        "colab": {
          "base_uri": "https://localhost:8080/"
        },
        "outputId": "37b4ee6e-912d-4ddc-e268-c8fab43cde11"
      },
      "execution_count": null,
      "outputs": [
        {
          "output_type": "execute_result",
          "data": {
            "text/plain": [
              "(451584, 100)"
            ]
          },
          "metadata": {},
          "execution_count": 4
        }
      ]
    },
    {
      "cell_type": "code",
      "source": [
        "Datos3K=Datos3K[:,:100]\n",
        "Datos3K.shape"
      ],
      "metadata": {
        "colab": {
          "base_uri": "https://localhost:8080/"
        },
        "id": "D3g_dy4aMeOb",
        "outputId": "6b7eb714-1168-4faa-8278-2a04922923d7"
      },
      "execution_count": null,
      "outputs": [
        {
          "output_type": "execute_result",
          "data": {
            "text/plain": [
              "(451584, 100)"
            ]
          },
          "metadata": {},
          "execution_count": 5
        }
      ]
    },
    {
      "cell_type": "code",
      "execution_count": null,
      "metadata": {
        "colab": {
          "base_uri": "https://localhost:8080/"
        },
        "id": "u5mu0n2jRXBz",
        "outputId": "24fd59ef-a420-4415-f9c4-919b1713a8bd"
      },
      "outputs": [
        {
          "output_type": "stream",
          "name": "stdout",
          "text": [
            "(150528, 100) (150528, 100) (150528, 100)\n"
          ]
        }
      ],
      "source": [
        "parte1=(Datos3K[0:150528,:])\n",
        "parte2=(Datos3K[150528:301056,:])\n",
        "parte3=(Datos3K[301056:,:])\n",
        "print(parte1.shape,parte2.shape,parte3.shape)"
      ]
    },
    {
      "cell_type": "code",
      "source": [
        "ceros=np.zeros((224,224,3,100))\n",
        "ceros=ceros.reshape(150528,100)\n",
        "ceros = np.asarray(ceros, dtype = 'int')\n",
        "ceros.shape"
      ],
      "metadata": {
        "colab": {
          "base_uri": "https://localhost:8080/"
        },
        "id": "LmXhksqNgMt7",
        "outputId": "c8933df3-1d73-4a84-a1f0-ed44393f2d24"
      },
      "execution_count": null,
      "outputs": [
        {
          "output_type": "execute_result",
          "data": {
            "text/plain": [
              "(150528, 100)"
            ]
          },
          "metadata": {},
          "execution_count": 7
        }
      ]
    },
    {
      "cell_type": "code",
      "execution_count": null,
      "metadata": {
        "id": "TYRonSScRXBz"
      },
      "outputs": [],
      "source": [
        "Data1=list()\n",
        "Data1 = np.concatenate([parte1, parte2,parte3])\n",
        "Data2 = np.concatenate([parte1, parte3,parte2])\n",
        "Data3 = np.concatenate([parte3, parte2,parte1])\n",
        "Data4 = np.concatenate([parte2, parte3,parte1])\n",
        "\n",
        "Data5 = np.concatenate([parte1, ceros,ceros])\n",
        "Data6 = np.concatenate([parte2, ceros,ceros])\n",
        "Data7 = np.concatenate([parte3, ceros,ceros])\n"
      ]
    },
    {
      "cell_type": "code",
      "source": [
        "Data5.shape"
      ],
      "metadata": {
        "colab": {
          "base_uri": "https://localhost:8080/"
        },
        "id": "tqrXn2NF2SR4",
        "outputId": "bf496855-9d1a-4670-8404-78f98a76f76b"
      },
      "execution_count": null,
      "outputs": [
        {
          "output_type": "execute_result",
          "data": {
            "text/plain": [
              "(451584, 100)"
            ]
          },
          "metadata": {},
          "execution_count": 9
        }
      ]
    },
    {
      "cell_type": "code",
      "source": [
        "Show=Data5[:,1]\n",
        "Show=Show.transpose()\n",
        "Show=Show.reshape(224,672,3)\n",
        "Show.shape"
      ],
      "metadata": {
        "colab": {
          "base_uri": "https://localhost:8080/"
        },
        "id": "fULx4ORu8orR",
        "outputId": "948f9f9f-b271-4910-e91d-3d83eefe173a"
      },
      "execution_count": null,
      "outputs": [
        {
          "output_type": "execute_result",
          "data": {
            "text/plain": [
              "(224, 672, 3)"
            ]
          },
          "metadata": {},
          "execution_count": 10
        }
      ]
    },
    {
      "cell_type": "code",
      "source": [
        "plt.imshow(Show)"
      ],
      "metadata": {
        "colab": {
          "base_uri": "https://localhost:8080/"
        },
        "id": "RqGE3Jbz1J-B",
        "outputId": "ec2b4a36-88ba-4ca0-b0f4-3facbbf18d93"
      },
      "execution_count": null,
      "outputs": [
        {
          "output_type": "execute_result",
          "data": {
            "text/plain": [
              "<matplotlib.image.AxesImage at 0x7f592d6e04f0>"
            ]
          },
          "metadata": {},
          "execution_count": 11
        },
        {
          "output_type": "display_data",
          "data": {
            "text/plain": [
              "<Figure size 432x288 with 1 Axes>"
            ],
            "image/png": "[encoded data removed]"
          },
          "metadata": {
            "needs_background": "light"
          }
        }
      ]
    },
    {
      "cell_type": "code",
      "execution_count": null,
      "metadata": {
        "id": "21VFqUKaRXBz"
      },
      "outputs": [],
      "source": [
        "Data1=Data1.transpose()\n",
        "Data2=Data2.transpose()\n",
        "Data3=Data3.transpose()\n",
        "Data4=Data4.transpose()\n",
        "Data5=Data5.transpose()\n",
        "Data6=Data6.transpose()\n",
        "Data7=Data7.transpose()\n",
        "Datos3K=np.concatenate([Data1, Data2,Data3,Data4,Data5,Data6,Data7])"
      ]
    },
    {
      "cell_type": "code",
      "source": [
        "Datos3K"
      ],
      "metadata": {
        "colab": {
          "base_uri": "https://localhost:8080/"
        },
        "id": "utQPZm0yLgoE",
        "outputId": "bd5baefa-da05-4e20-b04c-9b29e5b2e3b9"
      },
      "execution_count": null,
      "outputs": [
        {
          "output_type": "execute_result",
          "data": {
            "text/plain": [
              "array([[230, 179,  98, ..., 196, 143,  67],\n",
              "       [  5,   0,   4, ...,   0,   1,   2],\n",
              "       [  0,   0,   0, ...,   1,   0,   0],\n",
              "       ...,\n",
              "       [  0,   0,   0, ...,   0,   0,   0],\n",
              "       [  1,   1,   1, ...,   0,   0,   0],\n",
              "       [  0,   0,   0, ...,   0,   0,   0]])"
            ]
          },
          "metadata": {},
          "execution_count": 13
        }
      ]
    },
    {
      "cell_type": "code",
      "execution_count": null,
      "metadata": {
        "colab": {
          "base_uri": "https://localhost:8080/"
        },
        "id": "6uIqR16HRXBz",
        "outputId": "d0db6aba-7da1-41ae-a088-3609911b4c59"
      },
      "outputs": [
        {
          "output_type": "stream",
          "name": "stdout",
          "text": [
            "(700, 451584)\n"
          ]
        }
      ],
      "source": [
        "print(Datos3K.shape)"
      ]
    },
    {
      "cell_type": "code",
      "source": [
        "X =np.reshape(Datos3K,(Datos3K.shape[0],224,672,3))\n",
        "X = X.astype('float32') / 255.\n",
        "X.shape"
      ],
      "metadata": {
        "colab": {
          "base_uri": "https://localhost:8080/"
        },
        "outputId": "eebceea7-0d99-4a4c-9ba7-ab9d162c70b9",
        "id": "lnohdg8vcNO4"
      },
      "execution_count": null,
      "outputs": [
        {
          "output_type": "execute_result",
          "data": {
            "text/plain": [
              "(700, 224, 672, 3)"
            ]
          },
          "metadata": {},
          "execution_count": 15
        }
      ]
    },
    {
      "cell_type": "code",
      "source": [
        "print(X.shape)"
      ],
      "metadata": {
        "id": "obDlqbU4444a",
        "colab": {
          "base_uri": "https://localhost:8080/"
        },
        "outputId": "35ace895-5414-444a-8c95-eea924bca26b"
      },
      "execution_count": null,
      "outputs": [
        {
          "output_type": "stream",
          "name": "stdout",
          "text": [
            "(700, 224, 672, 3)\n"
          ]
        }
      ]
    },
    {
      "cell_type": "code",
      "source": [
        "Yvalues = []\n",
        "for i in range(100): \n",
        "  Yvalues.append(i)\n",
        "Yvalues= np.array(Yvalues)\n",
        "Yvalues = np.concatenate([Yvalues, Yvalues,Yvalues,Yvalues,Yvalues,Yvalues,Yvalues])"
      ],
      "metadata": {
        "id": "IscC18OYRiWg"
      },
      "execution_count": null,
      "outputs": []
    },
    {
      "cell_type": "code",
      "source": [
        "#Yvalues=Yvalues.reshape(50,1)\n",
        "Yvalues.shape"
      ],
      "metadata": {
        "id": "A0SMjd6oSb5w",
        "colab": {
          "base_uri": "https://localhost:8080/"
        },
        "outputId": "0d751b36-44da-4816-8f70-e501d723056a"
      },
      "execution_count": null,
      "outputs": [
        {
          "output_type": "execute_result",
          "data": {
            "text/plain": [
              "(700,)"
            ]
          },
          "metadata": {},
          "execution_count": 18
        }
      ]
    },
    {
      "cell_type": "code",
      "source": [
        "# Change the labels from categorical to one-hot encoding\n",
        "train_Y_one_hot = to_categorical(Yvalues)\n",
        "\n",
        "# Display the change for category label using one-hot encoding\n",
        "print('Original label:', Yvalues[0])\n",
        "print('After conversion to one-hot:', train_Y_one_hot[0])"
      ],
      "metadata": {
        "id": "nwVpaosnsQ0Z",
        "colab": {
          "base_uri": "https://localhost:8080/"
        },
        "outputId": "18fb481d-2e63-4de8-d934-e43660ca1433"
      },
      "execution_count": null,
      "outputs": [
        {
          "output_type": "stream",
          "name": "stdout",
          "text": [
            "Original label: 0\n",
            "After conversion to one-hot: [1. 0. 0. 0. 0. 0. 0. 0. 0. 0. 0. 0. 0. 0. 0. 0. 0. 0. 0. 0. 0. 0. 0. 0.\n",
            " 0. 0. 0. 0. 0. 0. 0. 0. 0. 0. 0. 0. 0. 0. 0. 0. 0. 0. 0. 0. 0. 0. 0. 0.\n",
            " 0. 0. 0. 0. 0. 0. 0. 0. 0. 0. 0. 0. 0. 0. 0. 0. 0. 0. 0. 0. 0. 0. 0. 0.\n",
            " 0. 0. 0. 0. 0. 0. 0. 0. 0. 0. 0. 0. 0. 0. 0. 0. 0. 0. 0. 0. 0. 0. 0. 0.\n",
            " 0. 0. 0. 0.]\n"
          ]
        }
      ]
    },
    {
      "cell_type": "code",
      "source": [
        "train_X,valid_X,train_label,valid_label = train_test_split(X,train_Y_one_hot,test_size=0.2)\n"
      ],
      "metadata": {
        "id": "DkL3DR1aVUDj"
      },
      "execution_count": null,
      "outputs": []
    },
    {
      "cell_type": "code",
      "source": [
        "print(train_X.shape,valid_X.shape,train_label.shape,valid_label.shape)"
      ],
      "metadata": {
        "id": "TSDNcMfzWF5l",
        "colab": {
          "base_uri": "https://localhost:8080/"
        },
        "outputId": "9de761fc-38df-423e-cc99-544620d691c5"
      },
      "execution_count": null,
      "outputs": [
        {
          "output_type": "stream",
          "name": "stdout",
          "text": [
            "(560, 224, 672, 3) (140, 224, 672, 3) (560, 100) (140, 100)\n"
          ]
        }
      ]
    },
    {
      "cell_type": "code",
      "source": [
        "num_classes=100\n",
        "input_img = Input(shape=(224, 672, 3)) \n",
        "def encoder(input_img):\n",
        "    #encoder\n",
        "    x = Conv2D(64, (3, 3), activation='relu', padding='same')(input_img)\n",
        "    x = MaxPooling2D((2, 2), padding='same')(x)\n",
        "    x = Conv2D(32, (3, 3), activation='relu', padding='same')(x)\n",
        "    encoded = MaxPooling2D((2, 2), padding='same')(x)\n",
        "    \n",
        "    return encoded\n",
        "\n",
        "def fc(enco):\n",
        "    flat = Flatten()(enco)\n",
        "    den = Dense(128, activation='relu')(flat)\n",
        "    den= Dropout(0.2)(den)\n",
        "    den = Dense(80, activation='relu')(den)\n",
        "    den= Dropout(0.2)(den)\n",
        "    out = Dense(num_classes, activation='softmax')(den)\n",
        "    return out\n",
        "\n",
        "encode = encoder(input_img)\n",
        "autoencoderClassifier = Model(input_img,fc(encode))"
      ],
      "metadata": {
        "id": "7nexN8uPcRjV"
      },
      "execution_count": null,
      "outputs": []
    },
    {
      "cell_type": "code",
      "source": [
        "for l1,l2 in zip(autoencoderClassifier.layers[:7],autoencoderClassifier.layers[0:7]):\n",
        "    l1.set_weights(l2.get_weights())"
      ],
      "metadata": {
        "id": "ztd_biRNYHlX"
      },
      "execution_count": null,
      "outputs": []
    },
    {
      "cell_type": "code",
      "source": [
        "autoencoderClassifier.get_weights()[0][1];"
      ],
      "metadata": {
        "id": "2OcKHH8_YxM0"
      },
      "execution_count": null,
      "outputs": []
    },
    {
      "cell_type": "code",
      "source": [
        "for layer in autoencoderClassifier.layers[0:7]:\n",
        "    layer.trainable = False"
      ],
      "metadata": {
        "id": "EssmflRaY5BP"
      },
      "execution_count": null,
      "outputs": []
    },
    {
      "cell_type": "code",
      "source": [
        "autoencoderClassifier.compile(loss='categorical_crossentropy', optimizer=keras.optimizers.Adam(),metrics=['accuracy'])\n"
      ],
      "metadata": {
        "id": "bTFL-_04Y8Tw"
      },
      "execution_count": null,
      "outputs": []
    },
    {
      "cell_type": "code",
      "source": [
        "autoencoderClassifier.summary()\n"
      ],
      "metadata": {
        "id": "Bfe7We9yZCWI",
        "colab": {
          "base_uri": "https://localhost:8080/"
        },
        "outputId": "cb3af5d9-7466-4475-c9eb-8c5fec6b7b48"
      },
      "execution_count": null,
      "outputs": [
        {
          "output_type": "stream",
          "name": "stdout",
          "text": [
            "Model: \"model\"\n",
            "_________________________________________________________________\n",
            " Layer (type)                Output Shape              Param #   \n",
            "=================================================================\n",
            " input_1 (InputLayer)        [(None, 224, 672, 3)]     0         \n",
            "                                                                 \n",
            " conv2d (Conv2D)             (None, 224, 672, 64)      1792      \n",
            "                                                                 \n",
            " max_pooling2d (MaxPooling2D  (None, 112, 336, 64)     0         \n",
            " )                                                               \n",
            "                                                                 \n",
            " conv2d_1 (Conv2D)           (None, 112, 336, 32)      18464     \n",
            "                                                                 \n",
            " max_pooling2d_1 (MaxPooling  (None, 56, 168, 32)      0         \n",
            " 2D)                                                             \n",
            "                                                                 \n",
            " flatten (Flatten)           (None, 301056)            0         \n",
            "                                                                 \n",
            " dense (Dense)               (None, 128)               38535296  \n",
            "                                                                 \n",
            " dropout (Dropout)           (None, 128)               0         \n",
            "                                                                 \n",
            " dense_1 (Dense)             (None, 80)                10320     \n",
            "                                                                 \n",
            " dropout_1 (Dropout)         (None, 80)                0         \n",
            "                                                                 \n",
            " dense_2 (Dense)             (None, 100)               8100      \n",
            "                                                                 \n",
            "=================================================================\n",
            "Total params: 38,573,972\n",
            "Trainable params: 18,420\n",
            "Non-trainable params: 38,555,552\n",
            "_________________________________________________________________\n"
          ]
        }
      ]
    },
    {
      "cell_type": "code",
      "source": [
        "classify_train = autoencoderClassifier.fit(train_X, train_label, batch_size=5,epochs=20,verbose=1,validation_data=(valid_X, valid_label))"
      ],
      "metadata": {
        "id": "y6pJnGzVZyPB",
        "colab": {
          "base_uri": "https://localhost:8080/"
        },
        "outputId": "8d86e98c-3811-4197-eec6-04b37a77209d"
      },
      "execution_count": null,
      "outputs": [
        {
          "output_type": "stream",
          "name": "stdout",
          "text": [
            "Epoch 1/20\n",
            "112/112 [==============================] - 77s 658ms/step - loss: 4.6146 - accuracy: 0.0036 - val_loss: 4.6164 - val_accuracy: 0.0071\n",
            "Epoch 2/20\n",
            "112/112 [==============================] - 74s 657ms/step - loss: 4.5910 - accuracy: 0.0232 - val_loss: 4.6324 - val_accuracy: 0.0000e+00\n",
            "Epoch 3/20\n",
            "112/112 [==============================] - 73s 652ms/step - loss: 4.5724 - accuracy: 0.0268 - val_loss: 4.6554 - val_accuracy: 0.0000e+00\n",
            "Epoch 4/20\n",
            "112/112 [==============================] - 74s 663ms/step - loss: 4.5379 - accuracy: 0.0482 - val_loss: 4.6849 - val_accuracy: 0.0000e+00\n",
            "Epoch 5/20\n",
            "112/112 [==============================] - 73s 655ms/step - loss: 4.5124 - accuracy: 0.0268 - val_loss: 4.6988 - val_accuracy: 0.0000e+00\n",
            "Epoch 6/20\n",
            "112/112 [==============================] - 73s 652ms/step - loss: 4.4832 - accuracy: 0.0625 - val_loss: 4.7065 - val_accuracy: 0.0000e+00\n",
            "Epoch 7/20\n",
            "112/112 [==============================] - 74s 659ms/step - loss: 4.4363 - accuracy: 0.0464 - val_loss: 4.7167 - val_accuracy: 0.0000e+00\n",
            "Epoch 8/20\n",
            "112/112 [==============================] - 71s 633ms/step - loss: 4.3959 - accuracy: 0.0714 - val_loss: 4.7248 - val_accuracy: 0.0000e+00\n",
            "Epoch 9/20\n",
            "112/112 [==============================] - 72s 645ms/step - loss: 4.3575 - accuracy: 0.0732 - val_loss: 4.7124 - val_accuracy: 0.0000e+00\n",
            "Epoch 10/20\n",
            "112/112 [==============================] - 73s 651ms/step - loss: 4.3050 - accuracy: 0.1000 - val_loss: 4.7081 - val_accuracy: 0.0071\n",
            "Epoch 11/20\n",
            "112/112 [==============================] - 72s 646ms/step - loss: 4.2639 - accuracy: 0.1089 - val_loss: 4.7042 - val_accuracy: 0.0000e+00\n",
            "Epoch 12/20\n",
            "112/112 [==============================] - 77s 694ms/step - loss: 4.1999 - accuracy: 0.1321 - val_loss: 4.6911 - val_accuracy: 0.0000e+00\n",
            "Epoch 13/20\n",
            "112/112 [==============================] - 72s 645ms/step - loss: 4.1582 - accuracy: 0.1393 - val_loss: 4.6739 - val_accuracy: 0.0071\n",
            "Epoch 14/20\n",
            "112/112 [==============================] - 71s 632ms/step - loss: 4.1171 - accuracy: 0.1375 - val_loss: 4.6560 - val_accuracy: 0.0071\n",
            "Epoch 15/20\n",
            "112/112 [==============================] - 72s 645ms/step - loss: 4.0458 - accuracy: 0.1464 - val_loss: 4.6217 - val_accuracy: 0.0071\n",
            "Epoch 16/20\n",
            "112/112 [==============================] - 72s 648ms/step - loss: 3.9935 - accuracy: 0.1625 - val_loss: 4.6032 - val_accuracy: 0.0214\n",
            "Epoch 17/20\n",
            "112/112 [==============================] - 72s 647ms/step - loss: 3.9516 - accuracy: 0.1554 - val_loss: 4.5585 - val_accuracy: 0.0286\n",
            "Epoch 18/20\n",
            "112/112 [==============================] - 71s 633ms/step - loss: 3.8767 - accuracy: 0.1750 - val_loss: 4.5412 - val_accuracy: 0.0214\n",
            "Epoch 19/20\n",
            "112/112 [==============================] - 73s 651ms/step - loss: 3.8172 - accuracy: 0.1893 - val_loss: 4.5275 - val_accuracy: 0.0286\n",
            "Epoch 20/20\n",
            "112/112 [==============================] - 73s 654ms/step - loss: 3.7873 - accuracy: 0.1839 - val_loss: 4.4865 - val_accuracy: 0.0286\n"
          ]
        }
      ]
    },
    {
      "cell_type": "code",
      "source": [
        "print(classify_train.history.keys())\n",
        "# summarize history for accuracy\n",
        "plt.plot(classify_train.history['accuracy'])\n",
        "plt.plot(classify_train.history['val_accuracy'])\n",
        "plt.title('model accuracy')\n",
        "plt.ylabel('accuracy')\n",
        "plt.xlabel('epoch')\n",
        "plt.legend(['train', 'test'], loc='upper left')\n",
        "plt.show()\n",
        "# summarize history for loss\n",
        "plt.plot(classify_train.history['loss'])\n",
        "plt.plot(classify_train.history['val_loss'])\n",
        "plt.title('model loss')\n",
        "plt.ylabel('loss')\n",
        "plt.xlabel('epoch')\n",
        "plt.legend(['train', 'test'], loc='upper left')\n",
        "plt.show()"
      ],
      "metadata": {
        "colab": {
          "base_uri": "https://localhost:8080/",
          "height": 590
        },
        "id": "UDp-l7sXeCLd",
        "outputId": "8af9113d-f090-48fc-e32a-a0eb233f0249"
      },
      "execution_count": null,
      "outputs": [
        {
          "output_type": "stream",
          "name": "stdout",
          "text": [
            "dict_keys(['loss', 'accuracy', 'val_loss', 'val_accuracy'])\n"
          ]
        },
        {
          "output_type": "display_data",
          "data": {
            "text/plain": [
              "<Figure size 432x288 with 1 Axes>"
            ],
            "image/png": "[encoded data removed]"
          },
          "metadata": {
            "needs_background": "light"
          }
        },
        {
          "output_type": "display_data",
          "data": {
            "text/plain": [
              "<Figure size 432x288 with 1 Axes>"
            ],
            "image/png": "[encoded data removed]"
          },
          "metadata": {
            "needs_background": "light"
          }
        }
      ]
    },
    {
      "cell_type": "code",
      "source": [
        "test_eval = autoencoderClassifier.evaluate(valid_X, valid_label, verbose=0)\n"
      ],
      "metadata": {
        "id": "WOYd4kW7j1ts"
      },
      "execution_count": null,
      "outputs": []
    },
    {
      "cell_type": "code",
      "source": [
        "print('Test loss:', test_eval[0])\n",
        "print('Test accuracy:', test_eval[1])"
      ],
      "metadata": {
        "id": "l4WAepL1jddl",
        "colab": {
          "base_uri": "https://localhost:8080/"
        },
        "outputId": "b5557d77-2fb1-4610-e807-47047ac89a06"
      },
      "execution_count": null,
      "outputs": [
        {
          "output_type": "stream",
          "name": "stdout",
          "text": [
            "Test loss: 4.303954601287842\n",
            "Test accuracy: 0.09285714477300644\n"
          ]
        }
      ]
    },
    {
      "cell_type": "code",
      "source": [
        "predicted_classes = autoencoderClassifier.predict(X)\n"
      ],
      "metadata": {
        "id": "gIJ9UoOvnLhI",
        "colab": {
          "base_uri": "https://localhost:8080/"
        },
        "outputId": "fbf90aaa-c757-4522-beb2-6eacae2033e8"
      },
      "execution_count": null,
      "outputs": [
        {
          "output_type": "stream",
          "name": "stdout",
          "text": [
            "22/22 [==============================] - 1s 34ms/step\n"
          ]
        }
      ]
    },
    {
      "cell_type": "code",
      "source": [
        "predicted_classes = np.argmax(np.round(predicted_classes),axis=1)\n"
      ],
      "metadata": {
        "id": "xARTkBPDnTa0"
      },
      "execution_count": null,
      "outputs": []
    },
    {
      "cell_type": "code",
      "source": [
        "predicted_classes"
      ],
      "metadata": {
        "id": "_-G9o-4AgenH",
        "colab": {
          "base_uri": "https://localhost:8080/"
        },
        "outputId": "9d804bec-fc81-411d-cb77-b2345caac96e"
      },
      "execution_count": null,
      "outputs": [
        {
          "output_type": "execute_result",
          "data": {
            "text/plain": [
              "array([0, 0, 0, 0, 0, 0, 0, 0, 0, 0, 0, 0, 0, 0, 0, 0, 0, 0, 0, 0, 0, 0,\n",
              "       0, 0, 0, 0, 0, 0, 0, 0, 0, 0, 0, 0, 0, 0, 0, 0, 0, 0, 0, 0, 0, 0,\n",
              "       0, 0, 0, 0, 0, 0, 0, 0, 0, 0, 0, 0, 0, 0, 0, 0, 0, 0, 0, 0, 0, 0,\n",
              "       0, 0, 0, 0, 0, 0, 0, 0, 0, 0, 0, 0, 0, 0, 0, 0, 0, 0, 0, 0, 0, 0,\n",
              "       0, 0, 0, 0, 0, 0, 0, 0, 0, 0, 0, 0, 0, 0, 0, 0, 0, 0, 0, 0, 0, 0,\n",
              "       0, 0, 0, 0, 0, 0, 0, 0, 0, 0, 0, 0, 0, 0, 0, 0, 0, 0, 0, 0, 0, 0,\n",
              "       0, 0, 0, 0, 0, 0, 0, 0, 0, 0, 0, 0, 0, 0, 0, 0, 0, 0, 0, 0, 0, 0,\n",
              "       0, 0, 0, 0, 0, 0, 0, 0, 0, 0, 0, 0, 0, 0, 0, 0, 0, 0, 0, 0, 0, 0,\n",
              "       0, 0, 0, 0, 0, 0, 0, 0, 0, 0, 0, 0, 0, 0, 0, 0, 0, 0, 0, 0, 0, 0,\n",
              "       0, 0, 0, 0, 0, 0, 0, 0, 0, 0, 0, 0, 0, 0, 0, 0, 0, 0, 0, 0, 0, 0,\n",
              "       0, 0, 0, 0, 0, 0, 0, 0, 0, 0, 0, 0, 0, 0, 0, 0, 0, 0, 0, 0, 0, 0,\n",
              "       0, 0, 0, 0, 0, 0, 0, 0, 0, 0, 0, 0, 0, 0, 0, 0, 0, 0, 0, 0, 0, 0,\n",
              "       0, 0, 0, 0, 0, 0, 0, 0, 0, 0, 0, 0, 0, 0, 0, 0, 0, 0, 0, 0, 0, 0,\n",
              "       0, 0, 0, 0, 0, 0, 0, 0, 0, 0, 0, 0, 0, 0, 0, 0, 0, 0, 0, 0, 0, 0,\n",
              "       0, 0, 0, 0, 0, 0, 0, 0, 0, 0, 0, 0, 0, 0, 0, 0, 0, 0, 0, 0, 0, 0,\n",
              "       0, 0, 0, 0, 0, 0, 0, 0, 0, 0, 0, 0, 0, 0, 0, 0, 0, 0, 0, 0, 0, 0,\n",
              "       0, 0, 0, 0, 0, 0, 0, 0, 0, 0, 0, 0, 0, 0, 0, 0, 0, 0, 0, 0, 0, 0,\n",
              "       0, 0, 0, 0, 0, 0, 0, 0, 0, 0, 0, 0, 0, 0, 0, 0, 0, 0, 0, 0, 0, 0,\n",
              "       0, 0, 0, 0, 0, 0, 0, 0, 0, 0, 0, 0, 0, 0, 0, 0, 0, 0, 0, 0, 0, 0,\n",
              "       0, 0, 0, 0, 0, 0, 0, 0, 0, 0, 0, 0, 0, 0, 0, 0, 0, 0, 0, 0, 0, 0,\n",
              "       0, 0, 0, 0, 0, 0, 0, 0, 0, 0, 0, 0, 0, 0, 0, 0, 0, 0, 0, 0, 0, 0,\n",
              "       0, 0, 0, 0, 0, 0, 0, 0, 0, 0, 0, 0, 0, 0, 0, 0, 0, 0, 0, 0, 0, 0,\n",
              "       0, 0, 0, 0, 0, 0, 0, 0, 0, 0, 0, 0, 0, 0, 0, 0, 0, 0, 0, 0, 0, 0,\n",
              "       0, 0, 0, 0, 0, 0, 0, 0, 0, 0, 0, 0, 0, 0, 0, 0, 0, 0, 0, 0, 0, 0,\n",
              "       0, 0, 0, 0, 0, 0, 0, 0, 0, 0, 0, 0, 0, 0, 0, 0, 0, 0, 0, 0, 0, 0,\n",
              "       0, 0, 0, 0, 0, 0, 0, 0, 0, 0, 0, 0, 0, 0, 0, 0, 0, 0, 0, 0, 0, 0,\n",
              "       0, 0, 0, 0, 0, 0, 0, 0, 0, 0, 0, 0, 0, 0, 0, 0, 0, 0, 0, 0, 0, 0,\n",
              "       0, 0, 0, 0, 0, 0, 0, 0, 0, 0, 0, 0, 0, 0, 0, 0, 0, 0, 0, 0, 0, 0,\n",
              "       0, 0, 0, 0, 0, 0, 0, 0, 0, 0, 0, 0, 0, 0, 0, 0, 0, 0, 0, 0, 0, 0,\n",
              "       0, 0, 0, 0, 0, 0, 0, 0, 0, 0, 0, 0, 0, 0, 0, 0, 0, 0, 0, 0, 0, 0,\n",
              "       0, 0, 0, 0, 0, 0, 0, 0, 0, 0, 0, 0, 0, 0, 0, 0, 0, 0, 0, 0, 0, 0,\n",
              "       0, 0, 0, 0, 0, 0, 0, 0, 0, 0, 0, 0, 0, 0, 0, 0, 0, 0])"
            ]
          },
          "metadata": {},
          "execution_count": 79
        }
      ]
    },
    {
      "cell_type": "code",
      "source": [
        "predicted_classes.shape, Yvalues.shape\n"
      ],
      "metadata": {
        "id": "_0yWGtZInXm-",
        "colab": {
          "base_uri": "https://localhost:8080/"
        },
        "outputId": "89b4f672-7eb0-4271-8784-a73296cd537b"
      },
      "execution_count": null,
      "outputs": [
        {
          "output_type": "execute_result",
          "data": {
            "text/plain": [
              "((700,), (700,))"
            ]
          },
          "metadata": {},
          "execution_count": 80
        }
      ]
    },
    {
      "cell_type": "code",
      "source": [
        "incorrect = np.where(predicted_classes!=Yvalues)[0]\n",
        "print (\"Found %d incorrect labels\" % len(incorrect))\n",
        "for i, incorrect in enumerate(incorrect[:9]):\n",
        "    plt.subplot(3,3,i+1)\n",
        "    plt.imshow(X[incorrect].reshape(224,672,3), interpolation='none')\n",
        "    plt.title(\"Predicted {}, Class {}\".format(predicted_classes[incorrect], Yvalues[incorrect]))\n",
        "    plt.tight_layout()"
      ],
      "metadata": {
        "id": "UXKufg3soFs6",
        "colab": {
          "base_uri": "https://localhost:8080/"
        },
        "outputId": "0c1422dd-14fe-4a1e-ef3f-2de27183e031"
      },
      "execution_count": null,
      "outputs": [
        {
          "output_type": "stream",
          "name": "stdout",
          "text": [
            "Found 693 incorrect labels\n"
          ]
        },
        {
          "output_type": "display_data",
          "data": {
            "text/plain": [
              "<Figure size 432x288 with 7 Axes>"
            ],
            "image/png": "[encoded data removed]"
          },
          "metadata": {
            "needs_background": "light"
          }
        }
      ]
    },
    {
      "cell_type": "code",
      "source": [
        "from sklearn.metrics import classification_report\n",
        "target_names = [\"Class {}\".format(i) for i in range(num_classes)]\n",
        "print(classification_report(Yvalues, predicted_classes, target_names=target_names))"
      ],
      "metadata": {
        "id": "bzWndrcphUBA",
        "colab": {
          "base_uri": "https://localhost:8080/"
        },
        "outputId": "689cec18-d5f5-4d69-9d94-bebe9b6be9d2"
      },
      "execution_count": null,
      "outputs": [
        {
          "output_type": "stream",
          "name": "stdout",
          "text": [
            "              precision    recall  f1-score   support\n",
            "\n",
            "     Class 0       0.01      1.00      0.02         7\n",
            "     Class 1       0.00      0.00      0.00         7\n",
            "     Class 2       0.00      0.00      0.00         7\n",
            "     Class 3       0.00      0.00      0.00         7\n",
            "     Class 4       0.00      0.00      0.00         7\n",
            "     Class 5       0.00      0.00      0.00         7\n",
            "     Class 6       0.00      0.00      0.00         7\n",
            "     Class 7       0.00      0.00      0.00         7\n",
            "     Class 8       0.00      0.00      0.00         7\n",
            "     Class 9       0.00      0.00      0.00         7\n",
            "    Class 10       0.00      0.00      0.00         7\n",
            "    Class 11       0.00      0.00      0.00         7\n",
            "    Class 12       0.00      0.00      0.00         7\n",
            "    Class 13       0.00      0.00      0.00         7\n",
            "    Class 14       0.00      0.00      0.00         7\n",
            "    Class 15       0.00      0.00      0.00         7\n",
            "    Class 16       0.00      0.00      0.00         7\n",
            "    Class 17       0.00      0.00      0.00         7\n",
            "    Class 18       0.00      0.00      0.00         7\n",
            "    Class 19       0.00      0.00      0.00         7\n",
            "    Class 20       0.00      0.00      0.00         7\n",
            "    Class 21       0.00      0.00      0.00         7\n",
            "    Class 22       0.00      0.00      0.00         7\n",
            "    Class 23       0.00      0.00      0.00         7\n",
            "    Class 24       0.00      0.00      0.00         7\n",
            "    Class 25       0.00      0.00      0.00         7\n",
            "    Class 26       0.00      0.00      0.00         7\n",
            "    Class 27       0.00      0.00      0.00         7\n",
            "    Class 28       0.00      0.00      0.00         7\n",
            "    Class 29       0.00      0.00      0.00         7\n",
            "    Class 30       0.00      0.00      0.00         7\n",
            "    Class 31       0.00      0.00      0.00         7\n",
            "    Class 32       0.00      0.00      0.00         7\n",
            "    Class 33       0.00      0.00      0.00         7\n",
            "    Class 34       0.00      0.00      0.00         7\n",
            "    Class 35       0.00      0.00      0.00         7\n",
            "    Class 36       0.00      0.00      0.00         7\n",
            "    Class 37       0.00      0.00      0.00         7\n",
            "    Class 38       0.00      0.00      0.00         7\n",
            "    Class 39       0.00      0.00      0.00         7\n",
            "    Class 40       0.00      0.00      0.00         7\n",
            "    Class 41       0.00      0.00      0.00         7\n",
            "    Class 42       0.00      0.00      0.00         7\n",
            "    Class 43       0.00      0.00      0.00         7\n",
            "    Class 44       0.00      0.00      0.00         7\n",
            "    Class 45       0.00      0.00      0.00         7\n",
            "    Class 46       0.00      0.00      0.00         7\n",
            "    Class 47       0.00      0.00      0.00         7\n",
            "    Class 48       0.00      0.00      0.00         7\n",
            "    Class 49       0.00      0.00      0.00         7\n",
            "    Class 50       0.00      0.00      0.00         7\n",
            "    Class 51       0.00      0.00      0.00         7\n",
            "    Class 52       0.00      0.00      0.00         7\n",
            "    Class 53       0.00      0.00      0.00         7\n",
            "    Class 54       0.00      0.00      0.00         7\n",
            "    Class 55       0.00      0.00      0.00         7\n",
            "    Class 56       0.00      0.00      0.00         7\n",
            "    Class 57       0.00      0.00      0.00         7\n",
            "    Class 58       0.00      0.00      0.00         7\n",
            "    Class 59       0.00      0.00      0.00         7\n",
            "    Class 60       0.00      0.00      0.00         7\n",
            "    Class 61       0.00      0.00      0.00         7\n",
            "    Class 62       0.00      0.00      0.00         7\n",
            "    Class 63       0.00      0.00      0.00         7\n",
            "    Class 64       0.00      0.00      0.00         7\n",
            "    Class 65       0.00      0.00      0.00         7\n",
            "    Class 66       0.00      0.00      0.00         7\n",
            "    Class 67       0.00      0.00      0.00         7\n",
            "    Class 68       0.00      0.00      0.00         7\n",
            "    Class 69       0.00      0.00      0.00         7\n",
            "    Class 70       0.00      0.00      0.00         7\n",
            "    Class 71       0.00      0.00      0.00         7\n",
            "    Class 72       0.00      0.00      0.00         7\n",
            "    Class 73       0.00      0.00      0.00         7\n",
            "    Class 74       0.00      0.00      0.00         7\n",
            "    Class 75       0.00      0.00      0.00         7\n",
            "    Class 76       0.00      0.00      0.00         7\n",
            "    Class 77       0.00      0.00      0.00         7\n",
            "    Class 78       0.00      0.00      0.00         7\n",
            "    Class 79       0.00      0.00      0.00         7\n",
            "    Class 80       0.00      0.00      0.00         7\n",
            "    Class 81       0.00      0.00      0.00         7\n",
            "    Class 82       0.00      0.00      0.00         7\n",
            "    Class 83       0.00      0.00      0.00         7\n",
            "    Class 84       0.00      0.00      0.00         7\n",
            "    Class 85       0.00      0.00      0.00         7\n",
            "    Class 86       0.00      0.00      0.00         7\n",
            "    Class 87       0.00      0.00      0.00         7\n",
            "    Class 88       0.00      0.00      0.00         7\n",
            "    Class 89       0.00      0.00      0.00         7\n",
            "    Class 90       0.00      0.00      0.00         7\n",
            "    Class 91       0.00      0.00      0.00         7\n",
            "    Class 92       0.00      0.00      0.00         7\n",
            "    Class 93       0.00      0.00      0.00         7\n",
            "    Class 94       0.00      0.00      0.00         7\n",
            "    Class 95       0.00      0.00      0.00         7\n",
            "    Class 96       0.00      0.00      0.00         7\n",
            "    Class 97       0.00      0.00      0.00         7\n",
            "    Class 98       0.00      0.00      0.00         7\n",
            "    Class 99       0.00      0.00      0.00         7\n",
            "\n",
            "    accuracy                           0.01       700\n",
            "   macro avg       0.00      0.01      0.00       700\n",
            "weighted avg       0.00      0.01      0.00       700\n",
            "\n"
          ]
        },
        {
          "output_type": "stream",
          "name": "stderr",
          "text": [
            "/usr/local/lib/python3.8/dist-packages/sklearn/metrics/_classification.py:1318: UndefinedMetricWarning: Precision and F-score are ill-defined and being set to 0.0 in labels with no predicted samples. Use `zero_division` parameter to control this behavior.\n",
            "  _warn_prf(average, modifier, msg_start, len(result))\n",
            "/usr/local/lib/python3.8/dist-packages/sklearn/metrics/_classification.py:1318: UndefinedMetricWarning: Precision and F-score are ill-defined and being set to 0.0 in labels with no predicted samples. Use `zero_division` parameter to control this behavior.\n",
            "  _warn_prf(average, modifier, msg_start, len(result))\n",
            "/usr/local/lib/python3.8/dist-packages/sklearn/metrics/_classification.py:1318: UndefinedMetricWarning: Precision and F-score are ill-defined and being set to 0.0 in labels with no predicted samples. Use `zero_division` parameter to control this behavior.\n",
            "  _warn_prf(average, modifier, msg_start, len(result))\n"
          ]
        }
      ]
    },
    {
      "cell_type": "code",
      "source": [
        "autoencoderClassifier.save('EscenarioConvClassifier.h5')"
      ],
      "metadata": {
        "id": "k2swajC8hUOL"
      },
      "execution_count": null,
      "outputs": []
    }
  ]
}