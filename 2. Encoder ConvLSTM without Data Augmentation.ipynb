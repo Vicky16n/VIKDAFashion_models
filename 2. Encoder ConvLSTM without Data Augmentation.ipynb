{
  "nbformat": 4,
  "nbformat_minor": 0,
  "metadata": {
    "colab": {
      "provenance": [],
      "machine_shape": "hm"
    },
    "kernelspec": {
      "name": "python3",
      "display_name": "Python 3"
    },
    "language_info": {
      "name": "python"
    },
    "accelerator": "GPU",
    "gpuClass": "premium"
  },
  "cells": [
    {
      "cell_type": "code",
      "source": [
        "from google.colab import drive\n",
        "drive.mount('/content/drive')"
      ],
      "metadata": {
        "colab": {
          "base_uri": "https://localhost:8080/"
        },
        "id": "1N5PGp05fdAD",
        "outputId": "ea24b765-6728-4764-f489-5328b9a77652"
      },
      "execution_count": null,
      "outputs": [
        {
          "output_type": "stream",
          "name": "stdout",
          "text": [
            "Mounted at /content/drive\n"
          ]
        }
      ]
    },
    {
      "cell_type": "code",
      "source": [
        "from array import array\n",
        "import numpy as np\n",
        "from pandas import read_csv\n",
        "from sklearn.model_selection import train_test_split \n",
        "import tensorflow as tf\n",
        "from matplotlib import pyplot as plt\n",
        "import keras\n",
        "from keras import layers\n",
        "from keras.layers import Input, Dense, ConvLSTM2D,Conv2D, Conv2DTranspose,Dropout,Flatten,TimeDistributed,LayerNormalization\n",
        "from keras.models import Model\n",
        "import keras\n",
        "from keras import layers\n",
        "from keras.models import Sequential, load_model\n",
        "from keras.callbacks import EarlyStopping\n",
        "from keras import backend as K\n",
        "from keras.utils import to_categorical\n",
        "from PIL import Image\n"
      ],
      "metadata": {
        "id": "NH-f5NGTuD6c"
      },
      "execution_count": null,
      "outputs": []
    },
    {
      "cell_type": "code",
      "source": [
        "Datos3K=read_csv('/content/drive/MyDrive/Colab Notebooks/Segmentation/3KAutoEncoder.csv',delimiter=',', index_col=False)\n",
        "#Datos3K = array(Datos3K)\n",
        "\n"
      ],
      "metadata": {
        "id": "JbRaVfcGRWuo"
      },
      "execution_count": null,
      "outputs": []
    },
    {
      "cell_type": "code",
      "source": [
        "Datos3K = Datos3K.to_numpy()\n",
        "Datos3K.shape\n"
      ],
      "metadata": {
        "id": "_XQE8HOu2apC",
        "colab": {
          "base_uri": "https://localhost:8080/"
        },
        "outputId": "b3b62a57-b5eb-4567-93c6-bfec64247953"
      },
      "execution_count": null,
      "outputs": [
        {
          "output_type": "execute_result",
          "data": {
            "text/plain": [
              "(451584, 100)"
            ]
          },
          "metadata": {},
          "execution_count": 4
        }
      ]
    },
    {
      "cell_type": "code",
      "source": [
        "Datos3K=Datos3K.transpose()"
      ],
      "metadata": {
        "id": "utQPZm0yLgoE"
      },
      "execution_count": null,
      "outputs": []
    },
    {
      "cell_type": "code",
      "execution_count": null,
      "metadata": {
        "colab": {
          "base_uri": "https://localhost:8080/"
        },
        "id": "6uIqR16HRXBz",
        "outputId": "255fed84-8d0d-4669-a433-ddbe2210c035"
      },
      "outputs": [
        {
          "output_type": "stream",
          "name": "stdout",
          "text": [
            "(100, 451584)\n"
          ]
        }
      ],
      "source": [
        "print(Datos3K.shape)"
      ]
    },
    {
      "cell_type": "code",
      "source": [
        "X =np.reshape(Datos3K,(Datos3K.shape[0],1,224,672,3))\n",
        "X = X.astype('float32') / 255.\n",
        "X.shape"
      ],
      "metadata": {
        "colab": {
          "base_uri": "https://localhost:8080/"
        },
        "outputId": "9c417a4d-9ead-4575-c223-efd907eedf2c",
        "id": "lnohdg8vcNO4"
      },
      "execution_count": null,
      "outputs": [
        {
          "output_type": "execute_result",
          "data": {
            "text/plain": [
              "(100, 1, 224, 672, 3)"
            ]
          },
          "metadata": {},
          "execution_count": 7
        }
      ]
    },
    {
      "cell_type": "code",
      "source": [
        "print(X.shape)"
      ],
      "metadata": {
        "id": "obDlqbU4444a",
        "colab": {
          "base_uri": "https://localhost:8080/"
        },
        "outputId": "ccfbd7a2-e135-4c52-afee-b92d6d11eec4"
      },
      "execution_count": null,
      "outputs": [
        {
          "output_type": "stream",
          "name": "stdout",
          "text": [
            "(100, 1, 224, 672, 3)\n"
          ]
        }
      ]
    },
    {
      "cell_type": "code",
      "source": [
        "Yvalues = []\n",
        "for i in range(100): \n",
        "  Yvalues.append(i)\n",
        "Yvalues= np.array(Yvalues)"
      ],
      "metadata": {
        "id": "IscC18OYRiWg"
      },
      "execution_count": null,
      "outputs": []
    },
    {
      "cell_type": "code",
      "source": [
        "#Yvalues=Yvalues.reshape(50,1)\n",
        "Yvalues.shape"
      ],
      "metadata": {
        "id": "A0SMjd6oSb5w",
        "colab": {
          "base_uri": "https://localhost:8080/"
        },
        "outputId": "f7bd2f37-8e8d-4e69-d643-9ba48a0c8293"
      },
      "execution_count": null,
      "outputs": [
        {
          "output_type": "execute_result",
          "data": {
            "text/plain": [
              "(100,)"
            ]
          },
          "metadata": {},
          "execution_count": 10
        }
      ]
    },
    {
      "cell_type": "code",
      "source": [
        "# Change the labels from categorical to one-hot encoding\n",
        "train_Y_one_hot = to_categorical(Yvalues)\n",
        "\n",
        "# Display the change for category label using one-hot encoding\n",
        "print('Original label:', Yvalues[0])\n",
        "print('After conversion to one-hot:', train_Y_one_hot[0])"
      ],
      "metadata": {
        "id": "nwVpaosnsQ0Z",
        "colab": {
          "base_uri": "https://localhost:8080/"
        },
        "outputId": "91822951-51e4-4732-e7d0-3d72f98b9f82"
      },
      "execution_count": null,
      "outputs": [
        {
          "output_type": "stream",
          "name": "stdout",
          "text": [
            "Original label: 0\n",
            "After conversion to one-hot: [1. 0. 0. 0. 0. 0. 0. 0. 0. 0. 0. 0. 0. 0. 0. 0. 0. 0. 0. 0. 0. 0. 0. 0.\n",
            " 0. 0. 0. 0. 0. 0. 0. 0. 0. 0. 0. 0. 0. 0. 0. 0. 0. 0. 0. 0. 0. 0. 0. 0.\n",
            " 0. 0. 0. 0. 0. 0. 0. 0. 0. 0. 0. 0. 0. 0. 0. 0. 0. 0. 0. 0. 0. 0. 0. 0.\n",
            " 0. 0. 0. 0. 0. 0. 0. 0. 0. 0. 0. 0. 0. 0. 0. 0. 0. 0. 0. 0. 0. 0. 0. 0.\n",
            " 0. 0. 0. 0.]\n"
          ]
        }
      ]
    },
    {
      "cell_type": "code",
      "source": [
        "train_X,valid_X,train_label,valid_label = train_test_split(X,train_Y_one_hot,test_size=0.2)\n"
      ],
      "metadata": {
        "id": "DkL3DR1aVUDj"
      },
      "execution_count": null,
      "outputs": []
    },
    {
      "cell_type": "code",
      "source": [
        "print(train_X.shape,valid_X.shape,train_label.shape,valid_label.shape)"
      ],
      "metadata": {
        "id": "TSDNcMfzWF5l",
        "colab": {
          "base_uri": "https://localhost:8080/"
        },
        "outputId": "d91169ba-4c11-494b-fe67-585282c86f50"
      },
      "execution_count": null,
      "outputs": [
        {
          "output_type": "stream",
          "name": "stdout",
          "text": [
            "(80, 1, 224, 672, 3) (20, 1, 224, 672, 3) (80, 100) (20, 100)\n"
          ]
        }
      ]
    },
    {
      "cell_type": "code",
      "source": [
        "num_classes=100\n",
        "input_img = Input(shape=(1,224, 672, 3)) \n",
        "def encoder(input_img):\n",
        "    #encoder\n",
        "    #input = 224 x 672 x 3 (wide and thin) \n",
        "    x=TimeDistributed(Conv2D(128, (11, 11), strides=4, padding=\"same\"), batch_input_shape=(None, 1, 224, 672, 3))(input_img)\n",
        "    x=LayerNormalization()(x)\n",
        "    x=TimeDistributed(Conv2D(64, (5, 5), strides=2, padding=\"same\"))(x)\n",
        "    x=LayerNormalization()(x)\n",
        "    # # # # #\n",
        "    x=ConvLSTM2D(64, (3, 3), padding=\"same\", return_sequences=True)(x)\n",
        "    x=LayerNormalization()(x)\n",
        "    encoded= ConvLSTM2D(32, (3, 3), padding=\"same\", return_sequences=True)(x)\n",
        "    \n",
        "    return encoded\n",
        "\n",
        "def fc(enco):\n",
        "    flat = Flatten()(enco)\n",
        "    den = Dense(128, activation='relu')(flat)\n",
        "    den= Dropout(0.2)(den)\n",
        "    den = Dense(80, activation='relu')(den)\n",
        "    den= Dropout(0.2)(den)\n",
        "    out = Dense(num_classes, activation='softmax')(den)\n",
        "    return out\n",
        "\n",
        "encode = encoder(input_img)\n",
        "autoencoderClassifier = Model(input_img,fc(encode))"
      ],
      "metadata": {
        "id": "7nexN8uPcRjV"
      },
      "execution_count": null,
      "outputs": []
    },
    {
      "cell_type": "code",
      "source": [
        "for l1,l2 in zip(autoencoderClassifier.layers[:7],autoencoderClassifier.layers[0:7]):\n",
        "    l1.set_weights(l2.get_weights())"
      ],
      "metadata": {
        "id": "ztd_biRNYHlX"
      },
      "execution_count": null,
      "outputs": []
    },
    {
      "cell_type": "code",
      "source": [
        "autoencoderClassifier.get_weights()[0][1];"
      ],
      "metadata": {
        "id": "2OcKHH8_YxM0"
      },
      "execution_count": null,
      "outputs": []
    },
    {
      "cell_type": "code",
      "source": [
        "for layer in autoencoderClassifier.layers[0:7]:\n",
        "    layer.trainable = False"
      ],
      "metadata": {
        "id": "EssmflRaY5BP"
      },
      "execution_count": null,
      "outputs": []
    },
    {
      "cell_type": "code",
      "source": [
        "autoencoderClassifier.compile(loss='categorical_crossentropy', optimizer=keras.optimizers.Adam(),metrics=['accuracy'])\n"
      ],
      "metadata": {
        "id": "bTFL-_04Y8Tw"
      },
      "execution_count": null,
      "outputs": []
    },
    {
      "cell_type": "code",
      "source": [
        "autoencoderClassifier.summary()\n"
      ],
      "metadata": {
        "id": "Bfe7We9yZCWI",
        "colab": {
          "base_uri": "https://localhost:8080/"
        },
        "outputId": "51f1e333-3117-4287-ac2e-cb971dadcc57"
      },
      "execution_count": null,
      "outputs": [
        {
          "output_type": "stream",
          "name": "stdout",
          "text": [
            "Model: \"model\"\n",
            "_________________________________________________________________\n",
            " Layer (type)                Output Shape              Param #   \n",
            "=================================================================\n",
            " input_1 (InputLayer)        [(None, 1, 224, 672, 3)]  0         \n",
            "                                                                 \n",
            " time_distributed (TimeDistr  (None, 1, 56, 168, 128)  46592     \n",
            " ibuted)                                                         \n",
            "                                                                 \n",
            " layer_normalization (LayerN  (None, 1, 56, 168, 128)  256       \n",
            " ormalization)                                                   \n",
            "                                                                 \n",
            " time_distributed_1 (TimeDis  (None, 1, 28, 84, 64)    204864    \n",
            " tributed)                                                       \n",
            "                                                                 \n",
            " layer_normalization_1 (Laye  (None, 1, 28, 84, 64)    128       \n",
            " rNormalization)                                                 \n",
            "                                                                 \n",
            " conv_lstm2d (ConvLSTM2D)    (None, 1, 28, 84, 64)     295168    \n",
            "                                                                 \n",
            " layer_normalization_2 (Laye  (None, 1, 28, 84, 64)    128       \n",
            " rNormalization)                                                 \n",
            "                                                                 \n",
            " conv_lstm2d_1 (ConvLSTM2D)  (None, 1, 28, 84, 32)     110720    \n",
            "                                                                 \n",
            " flatten (Flatten)           (None, 75264)             0         \n",
            "                                                                 \n",
            " dense (Dense)               (None, 128)               9633920   \n",
            "                                                                 \n",
            " dropout (Dropout)           (None, 128)               0         \n",
            "                                                                 \n",
            " dense_1 (Dense)             (None, 80)                10320     \n",
            "                                                                 \n",
            " dropout_1 (Dropout)         (None, 80)                0         \n",
            "                                                                 \n",
            " dense_2 (Dense)             (None, 100)               8100      \n",
            "                                                                 \n",
            "=================================================================\n",
            "Total params: 10,310,196\n",
            "Trainable params: 9,763,060\n",
            "Non-trainable params: 547,136\n",
            "_________________________________________________________________\n"
          ]
        }
      ]
    },
    {
      "cell_type": "code",
      "source": [
        "classify_train = autoencoderClassifier.fit(train_X, train_label, batch_size=5,epochs=20,verbose=1,validation_data=(valid_X, valid_label))\n"
      ],
      "metadata": {
        "id": "y6pJnGzVZyPB",
        "colab": {
          "base_uri": "https://localhost:8080/"
        },
        "outputId": "3d871a98-3ab9-4617-d44b-7e82def0a673"
      },
      "execution_count": null,
      "outputs": [
        {
          "output_type": "stream",
          "name": "stdout",
          "text": [
            "Epoch 1/20\n",
            "16/16 [==============================] - 12s 73ms/step - loss: 5.1025 - accuracy: 0.0125 - val_loss: 4.6341 - val_accuracy: 0.0500\n",
            "Epoch 2/20\n",
            "16/16 [==============================] - 0s 31ms/step - loss: 4.4186 - accuracy: 0.0375 - val_loss: 4.6764 - val_accuracy: 0.0000e+00\n",
            "Epoch 3/20\n",
            "16/16 [==============================] - 0s 26ms/step - loss: 3.6769 - accuracy: 0.1500 - val_loss: 5.0605 - val_accuracy: 0.0000e+00\n",
            "Epoch 4/20\n",
            "16/16 [==============================] - 1s 38ms/step - loss: 2.3817 - accuracy: 0.4500 - val_loss: 6.0098 - val_accuracy: 0.0000e+00\n",
            "Epoch 5/20\n",
            "16/16 [==============================] - 0s 27ms/step - loss: 1.2589 - accuracy: 0.6250 - val_loss: 7.0365 - val_accuracy: 0.0000e+00\n",
            "Epoch 6/20\n",
            "16/16 [==============================] - 0s 32ms/step - loss: 0.8325 - accuracy: 0.7375 - val_loss: 6.5158 - val_accuracy: 0.0000e+00\n",
            "Epoch 7/20\n",
            "16/16 [==============================] - 0s 28ms/step - loss: 0.5890 - accuracy: 0.8750 - val_loss: 8.3944 - val_accuracy: 0.0000e+00\n",
            "Epoch 8/20\n",
            "16/16 [==============================] - 0s 26ms/step - loss: 0.3527 - accuracy: 0.9000 - val_loss: 8.2242 - val_accuracy: 0.0000e+00\n",
            "Epoch 9/20\n",
            "16/16 [==============================] - 0s 25ms/step - loss: 0.4504 - accuracy: 0.8875 - val_loss: 6.8709 - val_accuracy: 0.0000e+00\n",
            "Epoch 10/20\n",
            "16/16 [==============================] - 0s 25ms/step - loss: 0.1306 - accuracy: 0.9500 - val_loss: 7.7620 - val_accuracy: 0.0000e+00\n",
            "Epoch 11/20\n",
            "16/16 [==============================] - 0s 26ms/step - loss: 0.1702 - accuracy: 0.9375 - val_loss: 7.6096 - val_accuracy: 0.0000e+00\n",
            "Epoch 12/20\n",
            "16/16 [==============================] - 0s 25ms/step - loss: 0.3900 - accuracy: 0.8875 - val_loss: 7.0405 - val_accuracy: 0.0000e+00\n",
            "Epoch 13/20\n",
            "16/16 [==============================] - 0s 25ms/step - loss: 0.1830 - accuracy: 0.9750 - val_loss: 8.6173 - val_accuracy: 0.0000e+00\n",
            "Epoch 14/20\n",
            "16/16 [==============================] - 0s 25ms/step - loss: 0.1879 - accuracy: 0.9250 - val_loss: 9.3477 - val_accuracy: 0.0000e+00\n",
            "Epoch 15/20\n",
            "16/16 [==============================] - 0s 25ms/step - loss: 0.2141 - accuracy: 0.9250 - val_loss: 8.7170 - val_accuracy: 0.0000e+00\n",
            "Epoch 16/20\n",
            "16/16 [==============================] - 0s 25ms/step - loss: 0.2100 - accuracy: 0.9375 - val_loss: 8.3739 - val_accuracy: 0.0000e+00\n",
            "Epoch 17/20\n",
            "16/16 [==============================] - 0s 25ms/step - loss: 0.1344 - accuracy: 0.9500 - val_loss: 9.1204 - val_accuracy: 0.0000e+00\n",
            "Epoch 18/20\n",
            "16/16 [==============================] - 0s 25ms/step - loss: 0.1563 - accuracy: 0.9625 - val_loss: 8.3600 - val_accuracy: 0.0000e+00\n",
            "Epoch 19/20\n",
            "16/16 [==============================] - 0s 25ms/step - loss: 0.1648 - accuracy: 0.9625 - val_loss: 8.7447 - val_accuracy: 0.0000e+00\n",
            "Epoch 20/20\n",
            "16/16 [==============================] - 0s 25ms/step - loss: 0.1105 - accuracy: 0.9500 - val_loss: 9.0033 - val_accuracy: 0.0000e+00\n"
          ]
        }
      ]
    },
    {
      "cell_type": "code",
      "source": [
        "print(classify_train.history.keys())\n",
        "# summarize history for accuracy\n",
        "plt.plot(classify_train.history['accuracy'])\n",
        "plt.plot(classify_train.history['val_accuracy'])\n",
        "plt.title('model accuracy')\n",
        "plt.ylabel('accuracy')\n",
        "plt.xlabel('epoch')\n",
        "plt.legend(['train', 'test'], loc='upper left')\n",
        "plt.show()\n",
        "# summarize history for loss\n",
        "plt.plot(classify_train.history['loss'])\n",
        "plt.plot(classify_train.history['val_loss'])\n",
        "plt.title('model loss')\n",
        "plt.ylabel('loss')\n",
        "plt.xlabel('epoch')\n",
        "plt.legend(['train', 'test'], loc='upper left')\n",
        "plt.show()"
      ],
      "metadata": {
        "colab": {
          "base_uri": "https://localhost:8080/",
          "height": 590
        },
        "id": "bCFjZqiDD0eE",
        "outputId": "6ed9dd6b-2f14-4276-d08d-1584c0945f97"
      },
      "execution_count": null,
      "outputs": [
        {
          "output_type": "stream",
          "name": "stdout",
          "text": [
            "dict_keys(['loss', 'accuracy', 'val_loss', 'val_accuracy'])\n"
          ]
        },
        {
          "output_type": "display_data",
          "data": {
            "text/plain": [
              "<Figure size 432x288 with 1 Axes>"
            ],
            "image/png": "[encoded data removed]"
          },
          "metadata": {
            "needs_background": "light"
          }
        },
        {
          "output_type": "display_data",
          "data": {
            "text/plain": [
              "<Figure size 432x288 with 1 Axes>"
            ],
            "image/png": "[encoded data removed]"
          },
          "metadata": {
            "needs_background": "light"
          }
        }
      ]
    },
    {
      "cell_type": "code",
      "source": [
        "test_eval = autoencoderClassifier.evaluate(valid_X, valid_label, verbose=0)\n"
      ],
      "metadata": {
        "id": "WOYd4kW7j1ts"
      },
      "execution_count": null,
      "outputs": []
    },
    {
      "cell_type": "code",
      "source": [
        "print('Test loss:', test_eval[0])\n",
        "print('Test accuracy:', test_eval[1])"
      ],
      "metadata": {
        "id": "l4WAepL1jddl",
        "colab": {
          "base_uri": "https://localhost:8080/"
        },
        "outputId": "0abf60d0-75ed-41e1-91fa-7732b53f1131"
      },
      "execution_count": null,
      "outputs": [
        {
          "output_type": "stream",
          "name": "stdout",
          "text": [
            "Test loss: 9.003280639648438\n",
            "Test accuracy: 0.0\n"
          ]
        }
      ]
    },
    {
      "cell_type": "code",
      "source": [
        "predicted_classes = autoencoderClassifier.predict(X)\n"
      ],
      "metadata": {
        "id": "gIJ9UoOvnLhI",
        "colab": {
          "base_uri": "https://localhost:8080/"
        },
        "outputId": "bbf179b1-5fe8-4c23-f98c-e6699f8fd0be"
      },
      "execution_count": null,
      "outputs": [
        {
          "output_type": "stream",
          "name": "stdout",
          "text": [
            "4/4 [==============================] - 1s 94ms/step\n"
          ]
        }
      ]
    },
    {
      "cell_type": "code",
      "source": [
        "predicted_classes = np.argmax(np.round(predicted_classes),axis=1)\n"
      ],
      "metadata": {
        "id": "xARTkBPDnTa0"
      },
      "execution_count": null,
      "outputs": []
    },
    {
      "cell_type": "code",
      "source": [
        "predicted_classes"
      ],
      "metadata": {
        "id": "_-G9o-4AgenH",
        "colab": {
          "base_uri": "https://localhost:8080/"
        },
        "outputId": "39fcdb72-0bcc-4d7b-891a-eee9ca38dfa1"
      },
      "execution_count": null,
      "outputs": [
        {
          "output_type": "execute_result",
          "data": {
            "text/plain": [
              "array([ 0,  1,  2,  3,  4,  5,  6,  7,  8,  9, 10, 11, 12,  0, 14, 15, 16,\n",
              "        0, 18, 19, 20,  0, 22,  0, 24, 25,  0, 27, 28, 29, 30, 31, 32, 33,\n",
              "       34, 35, 36, 37, 38, 39, 40, 41, 42, 43,  0, 45, 46, 47, 48, 12, 50,\n",
              "       51, 52, 53, 54, 55,  0,  0, 58, 59,  0, 61, 62, 63, 64, 65, 66, 67,\n",
              "        0, 69,  0, 53, 72,  0, 74, 75,  0,  0, 78, 79, 80, 81, 82,  0, 84,\n",
              "        6, 86, 87, 88,  0, 90,  0, 92, 93, 94, 95, 96, 97, 98, 99])"
            ]
          },
          "metadata": {},
          "execution_count": 26
        }
      ]
    },
    {
      "cell_type": "code",
      "source": [
        "predicted_classes.shape, Yvalues.shape\n"
      ],
      "metadata": {
        "id": "_0yWGtZInXm-",
        "colab": {
          "base_uri": "https://localhost:8080/"
        },
        "outputId": "499583c5-d91c-4523-b588-7d5ca950b3ad"
      },
      "execution_count": null,
      "outputs": [
        {
          "output_type": "execute_result",
          "data": {
            "text/plain": [
              "((100,), (100,))"
            ]
          },
          "metadata": {},
          "execution_count": 27
        }
      ]
    },
    {
      "cell_type": "code",
      "source": [
        "incorrect = np.where(predicted_classes!=Yvalues)[0]\n",
        "print (\"Found %d incorrect labels\" % len(incorrect))\n",
        "for i, incorrect in enumerate(incorrect[:9]):\n",
        "    plt.subplot(3,3,i+1)\n",
        "    plt.imshow(X[incorrect].reshape(224,672,3), interpolation='none')\n",
        "    plt.title(\"Predicted {}, Class {}\".format(predicted_classes[incorrect], Yvalues[incorrect]))\n",
        "    plt.tight_layout()"
      ],
      "metadata": {
        "id": "UXKufg3soFs6",
        "colab": {
          "base_uri": "https://localhost:8080/",
          "height": 281
        },
        "outputId": "7e7b54c8-2973-49cb-c20b-0965331c4b9d"
      },
      "execution_count": null,
      "outputs": [
        {
          "output_type": "stream",
          "name": "stdout",
          "text": [
            "Found 20 incorrect labels\n"
          ]
        },
        {
          "output_type": "display_data",
          "data": {
            "text/plain": [
              "<Figure size 432x288 with 7 Axes>"
            ],
            "image/png": "[encoded data removed]"
          },
          "metadata": {
            "needs_background": "light"
          }
        }
      ]
    },
    {
      "cell_type": "code",
      "source": [
        "from sklearn.metrics import classification_report\n",
        "target_names = [\"Class {}\".format(i) for i in range(num_classes)]\n",
        "print(classification_report(Yvalues, predicted_classes, target_names=target_names))"
      ],
      "metadata": {
        "id": "bzWndrcphUBA",
        "colab": {
          "base_uri": "https://localhost:8080/"
        },
        "outputId": "8fff9819-d1f8-4079-9ea4-f087e6322066"
      },
      "execution_count": null,
      "outputs": [
        {
          "output_type": "stream",
          "name": "stdout",
          "text": [
            "              precision    recall  f1-score   support\n",
            "\n",
            "     Class 0       0.06      1.00      0.11         1\n",
            "     Class 1       1.00      1.00      1.00         1\n",
            "     Class 2       1.00      1.00      1.00         1\n",
            "     Class 3       1.00      1.00      1.00         1\n",
            "     Class 4       1.00      1.00      1.00         1\n",
            "     Class 5       1.00      1.00      1.00         1\n",
            "     Class 6       0.50      1.00      0.67         1\n",
            "     Class 7       1.00      1.00      1.00         1\n",
            "     Class 8       1.00      1.00      1.00         1\n",
            "     Class 9       1.00      1.00      1.00         1\n",
            "    Class 10       1.00      1.00      1.00         1\n",
            "    Class 11       1.00      1.00      1.00         1\n",
            "    Class 12       0.50      1.00      0.67         1\n",
            "    Class 13       0.00      0.00      0.00         1\n",
            "    Class 14       1.00      1.00      1.00         1\n",
            "    Class 15       1.00      1.00      1.00         1\n",
            "    Class 16       1.00      1.00      1.00         1\n",
            "    Class 17       0.00      0.00      0.00         1\n",
            "    Class 18       1.00      1.00      1.00         1\n",
            "    Class 19       1.00      1.00      1.00         1\n",
            "    Class 20       1.00      1.00      1.00         1\n",
            "    Class 21       0.00      0.00      0.00         1\n",
            "    Class 22       1.00      1.00      1.00         1\n",
            "    Class 23       0.00      0.00      0.00         1\n",
            "    Class 24       1.00      1.00      1.00         1\n",
            "    Class 25       1.00      1.00      1.00         1\n",
            "    Class 26       0.00      0.00      0.00         1\n",
            "    Class 27       1.00      1.00      1.00         1\n",
            "    Class 28       1.00      1.00      1.00         1\n",
            "    Class 29       1.00      1.00      1.00         1\n",
            "    Class 30       1.00      1.00      1.00         1\n",
            "    Class 31       1.00      1.00      1.00         1\n",
            "    Class 32       1.00      1.00      1.00         1\n",
            "    Class 33       1.00      1.00      1.00         1\n",
            "    Class 34       1.00      1.00      1.00         1\n",
            "    Class 35       1.00      1.00      1.00         1\n",
            "    Class 36       1.00      1.00      1.00         1\n",
            "    Class 37       1.00      1.00      1.00         1\n",
            "    Class 38       1.00      1.00      1.00         1\n",
            "    Class 39       1.00      1.00      1.00         1\n",
            "    Class 40       1.00      1.00      1.00         1\n",
            "    Class 41       1.00      1.00      1.00         1\n",
            "    Class 42       1.00      1.00      1.00         1\n",
            "    Class 43       1.00      1.00      1.00         1\n",
            "    Class 44       0.00      0.00      0.00         1\n",
            "    Class 45       1.00      1.00      1.00         1\n",
            "    Class 46       1.00      1.00      1.00         1\n",
            "    Class 47       1.00      1.00      1.00         1\n",
            "    Class 48       1.00      1.00      1.00         1\n",
            "    Class 49       0.00      0.00      0.00         1\n",
            "    Class 50       1.00      1.00      1.00         1\n",
            "    Class 51       1.00      1.00      1.00         1\n",
            "    Class 52       1.00      1.00      1.00         1\n",
            "    Class 53       0.50      1.00      0.67         1\n",
            "    Class 54       1.00      1.00      1.00         1\n",
            "    Class 55       1.00      1.00      1.00         1\n",
            "    Class 56       0.00      0.00      0.00         1\n",
            "    Class 57       0.00      0.00      0.00         1\n",
            "    Class 58       1.00      1.00      1.00         1\n",
            "    Class 59       1.00      1.00      1.00         1\n",
            "    Class 60       0.00      0.00      0.00         1\n",
            "    Class 61       1.00      1.00      1.00         1\n",
            "    Class 62       1.00      1.00      1.00         1\n",
            "    Class 63       1.00      1.00      1.00         1\n",
            "    Class 64       1.00      1.00      1.00         1\n",
            "    Class 65       1.00      1.00      1.00         1\n",
            "    Class 66       1.00      1.00      1.00         1\n",
            "    Class 67       1.00      1.00      1.00         1\n",
            "    Class 68       0.00      0.00      0.00         1\n",
            "    Class 69       1.00      1.00      1.00         1\n",
            "    Class 70       0.00      0.00      0.00         1\n",
            "    Class 71       0.00      0.00      0.00         1\n",
            "    Class 72       1.00      1.00      1.00         1\n",
            "    Class 73       0.00      0.00      0.00         1\n",
            "    Class 74       1.00      1.00      1.00         1\n",
            "    Class 75       1.00      1.00      1.00         1\n",
            "    Class 76       0.00      0.00      0.00         1\n",
            "    Class 77       0.00      0.00      0.00         1\n",
            "    Class 78       1.00      1.00      1.00         1\n",
            "    Class 79       1.00      1.00      1.00         1\n",
            "    Class 80       1.00      1.00      1.00         1\n",
            "    Class 81       1.00      1.00      1.00         1\n",
            "    Class 82       1.00      1.00      1.00         1\n",
            "    Class 83       0.00      0.00      0.00         1\n",
            "    Class 84       1.00      1.00      1.00         1\n",
            "    Class 85       0.00      0.00      0.00         1\n",
            "    Class 86       1.00      1.00      1.00         1\n",
            "    Class 87       1.00      1.00      1.00         1\n",
            "    Class 88       1.00      1.00      1.00         1\n",
            "    Class 89       0.00      0.00      0.00         1\n",
            "    Class 90       1.00      1.00      1.00         1\n",
            "    Class 91       0.00      0.00      0.00         1\n",
            "    Class 92       1.00      1.00      1.00         1\n",
            "    Class 93       1.00      1.00      1.00         1\n",
            "    Class 94       1.00      1.00      1.00         1\n",
            "    Class 95       1.00      1.00      1.00         1\n",
            "    Class 96       1.00      1.00      1.00         1\n",
            "    Class 97       1.00      1.00      1.00         1\n",
            "    Class 98       1.00      1.00      1.00         1\n",
            "    Class 99       1.00      1.00      1.00         1\n",
            "\n",
            "    accuracy                           0.80       100\n",
            "   macro avg       0.78      0.80      0.78       100\n",
            "weighted avg       0.78      0.80      0.78       100\n",
            "\n"
          ]
        },
        {
          "output_type": "stream",
          "name": "stderr",
          "text": [
            "/usr/local/lib/python3.8/dist-packages/sklearn/metrics/_classification.py:1318: UndefinedMetricWarning: Precision and F-score are ill-defined and being set to 0.0 in labels with no predicted samples. Use `zero_division` parameter to control this behavior.\n",
            "  _warn_prf(average, modifier, msg_start, len(result))\n",
            "/usr/local/lib/python3.8/dist-packages/sklearn/metrics/_classification.py:1318: UndefinedMetricWarning: Precision and F-score are ill-defined and being set to 0.0 in labels with no predicted samples. Use `zero_division` parameter to control this behavior.\n",
            "  _warn_prf(average, modifier, msg_start, len(result))\n",
            "/usr/local/lib/python3.8/dist-packages/sklearn/metrics/_classification.py:1318: UndefinedMetricWarning: Precision and F-score are ill-defined and being set to 0.0 in labels with no predicted samples. Use `zero_division` parameter to control this behavior.\n",
            "  _warn_prf(average, modifier, msg_start, len(result))\n"
          ]
        }
      ]
    },
    {
      "cell_type": "code",
      "source": [
        "autoencoderClassifier.save('2. Without Data Augmentation Encoder Classification ConvLSTM.h5')"
      ],
      "metadata": {
        "id": "k2swajC8hUOL"
      },
      "execution_count": null,
      "outputs": []
    }
  ]
}