{
  "nbformat": 4,
  "nbformat_minor": 0,
  "metadata": {
    "colab": {
      "provenance": [],
      "machine_shape": "hm"
    },
    "kernelspec": {
      "name": "python3",
      "display_name": "Python 3"
    },
    "language_info": {
      "name": "python"
    },
    "accelerator": "GPU",
    "gpuClass": "standard"
  },
  "cells": [
    {
      "cell_type": "code",
      "source": [
        "from google.colab import drive\n",
        "drive.mount('/content/drive')"
      ],
      "metadata": {
        "colab": {
          "base_uri": "https://localhost:8080/"
        },
        "id": "zr41gMKuEZwo",
        "outputId": "087cd2f6-94bb-45f6-b9ad-523cb4fdb5d5"
      },
      "execution_count": null,
      "outputs": [
        {
          "output_type": "stream",
          "name": "stdout",
          "text": [
            "Mounted at /content/drive\n"
          ]
        }
      ]
    },
    {
      "cell_type": "code",
      "source": [
        "from array import array\n",
        "import numpy as np\n",
        "from pandas import read_csv\n",
        "from sklearn.model_selection import train_test_split \n",
        "import tensorflow as tf\n",
        "from matplotlib import pyplot as plt\n",
        "import keras\n",
        "from keras import layers\n",
        "from keras.layers import Input, Dense, Conv2D, MaxPooling2D, UpSampling2D,Dropout,Flatten,TimeDistributed,LayerNormalization,ConvLSTM2D,Conv2DTranspose\n",
        "from keras.models import Model\n",
        "from keras.callbacks import EarlyStopping\n",
        "from keras import backend as K\n",
        "from keras.utils import to_categorical\n"
      ],
      "metadata": {
        "id": "NH-f5NGTuD6c"
      },
      "execution_count": null,
      "outputs": []
    },
    {
      "cell_type": "code",
      "source": [
        "Datos3K=read_csv('/content/drive/MyDrive/Colab Notebooks/Segmentation/3KAutoEncoder.csv',delimiter=',', index_col=False)\n",
        "#Datos3K = array(Datos3K)\n",
        "\n"
      ],
      "metadata": {
        "id": "JbRaVfcGRWuo"
      },
      "execution_count": null,
      "outputs": []
    },
    {
      "cell_type": "code",
      "source": [
        "Datos3K = Datos3K.to_numpy()\n",
        "Datos3K.shape\n"
      ],
      "metadata": {
        "id": "_XQE8HOu2apC",
        "colab": {
          "base_uri": "https://localhost:8080/"
        },
        "outputId": "52dac241-10e9-4a50-afe7-639f33fdb46c"
      },
      "execution_count": null,
      "outputs": [
        {
          "output_type": "execute_result",
          "data": {
            "text/plain": [
              "(451584, 100)"
            ]
          },
          "metadata": {},
          "execution_count": 5
        }
      ]
    },
    {
      "cell_type": "code",
      "source": [
        "Datos3K=Datos3K[:,:100]\n",
        "Datos3K.shape"
      ],
      "metadata": {
        "colab": {
          "base_uri": "https://localhost:8080/"
        },
        "id": "D3g_dy4aMeOb",
        "outputId": "42726e36-195e-4e3a-bce0-46fd1634c20b"
      },
      "execution_count": null,
      "outputs": [
        {
          "output_type": "execute_result",
          "data": {
            "text/plain": [
              "(451584, 100)"
            ]
          },
          "metadata": {},
          "execution_count": 6
        }
      ]
    },
    {
      "cell_type": "code",
      "execution_count": null,
      "metadata": {
        "colab": {
          "base_uri": "https://localhost:8080/"
        },
        "id": "u5mu0n2jRXBz",
        "outputId": "2cca4a0d-7d05-440c-e084-a7ca1809f93c"
      },
      "outputs": [
        {
          "output_type": "stream",
          "name": "stdout",
          "text": [
            "(150528, 100) (150528, 100) (150528, 100)\n"
          ]
        }
      ],
      "source": [
        "parte1=(Datos3K[0:150528,:])\n",
        "parte2=(Datos3K[150528:301056,:])\n",
        "parte3=(Datos3K[301056:,:])\n",
        "print(parte1.shape,parte2.shape,parte3.shape)"
      ]
    },
    {
      "cell_type": "code",
      "source": [
        "ceros=np.zeros((224,224,3,100))\n",
        "ceros=ceros.reshape(150528,100)\n",
        "ceros = np.asarray(ceros, dtype = 'int')\n",
        "ceros.shape"
      ],
      "metadata": {
        "colab": {
          "base_uri": "https://localhost:8080/"
        },
        "id": "LmXhksqNgMt7",
        "outputId": "4e6c5aa5-132f-4b22-c7c1-c5547271e7be"
      },
      "execution_count": null,
      "outputs": [
        {
          "output_type": "execute_result",
          "data": {
            "text/plain": [
              "(150528, 100)"
            ]
          },
          "metadata": {},
          "execution_count": 8
        }
      ]
    },
    {
      "cell_type": "code",
      "execution_count": null,
      "metadata": {
        "id": "TYRonSScRXBz"
      },
      "outputs": [],
      "source": [
        "Data1=list()\n",
        "Data1 = np.concatenate([parte1, parte2,parte3])\n",
        "Data2 = np.concatenate([parte1, parte3,parte2])\n",
        "Data3 = np.concatenate([parte3, parte2,parte1])\n",
        "Data4 = np.concatenate([parte2, parte3,parte1])\n",
        "\n",
        "Data5 = np.concatenate([parte1, ceros,ceros])\n",
        "Data6 = np.concatenate([parte2, ceros,ceros])\n",
        "Data7 = np.concatenate([parte3, ceros,ceros])\n"
      ]
    },
    {
      "cell_type": "code",
      "source": [
        "Data5.shape"
      ],
      "metadata": {
        "colab": {
          "base_uri": "https://localhost:8080/"
        },
        "id": "tqrXn2NF2SR4",
        "outputId": "fbad0841-8348-4fb3-cdaa-be775a0be15c"
      },
      "execution_count": null,
      "outputs": [
        {
          "output_type": "execute_result",
          "data": {
            "text/plain": [
              "(451584, 100)"
            ]
          },
          "metadata": {},
          "execution_count": 10
        }
      ]
    },
    {
      "cell_type": "code",
      "source": [
        "Show=Data5[:,1]\n",
        "Show=Show.transpose()\n",
        "Show=Show.reshape(224,672,3)\n",
        "Show.shape"
      ],
      "metadata": {
        "colab": {
          "base_uri": "https://localhost:8080/"
        },
        "id": "fULx4ORu8orR",
        "outputId": "43d8649a-2832-43b6-c808-ccdc0d967436"
      },
      "execution_count": null,
      "outputs": [
        {
          "output_type": "execute_result",
          "data": {
            "text/plain": [
              "(224, 672, 3)"
            ]
          },
          "metadata": {},
          "execution_count": 11
        }
      ]
    },
    {
      "cell_type": "code",
      "source": [
        "plt.imshow(Show)"
      ],
      "metadata": {
        "colab": {
          "base_uri": "https://localhost:8080/",
          "height": 180
        },
        "id": "RqGE3Jbz1J-B",
        "outputId": "73710370-178f-4be1-928b-ca37adcfe4e7"
      },
      "execution_count": null,
      "outputs": [
        {
          "output_type": "execute_result",
          "data": {
            "text/plain": [
              "<matplotlib.image.AxesImage at 0x7f280f8fef70>"
            ]
          },
          "metadata": {},
          "execution_count": 12
        },
        {
          "output_type": "display_data",
          "data": {
            "text/plain": [
              "<Figure size 432x288 with 1 Axes>"
            ],
            "image/png": "[encoded data removed]"
          },
          "metadata": {
            "needs_background": "light"
          }
        }
      ]
    },
    {
      "cell_type": "code",
      "execution_count": null,
      "metadata": {
        "id": "21VFqUKaRXBz"
      },
      "outputs": [],
      "source": [
        "Data1=Data1.transpose()\n",
        "Data2=Data2.transpose()\n",
        "Data3=Data3.transpose()\n",
        "Data4=Data4.transpose()\n",
        "Data5=Data5.transpose()\n",
        "Data6=Data6.transpose()\n",
        "Data7=Data7.transpose()\n",
        "Datos3K=np.concatenate([Data1, Data2,Data3,Data4,Data5,Data6,Data7])"
      ]
    },
    {
      "cell_type": "code",
      "source": [
        "Datos3K"
      ],
      "metadata": {
        "colab": {
          "base_uri": "https://localhost:8080/"
        },
        "id": "utQPZm0yLgoE",
        "outputId": "8565bc95-36c4-48df-86f9-886f912176f0"
      },
      "execution_count": null,
      "outputs": [
        {
          "output_type": "execute_result",
          "data": {
            "text/plain": [
              "array([[230, 179,  98, ..., 196, 143,  67],\n",
              "       [  5,   0,   4, ...,   0,   1,   2],\n",
              "       [  0,   0,   0, ...,   1,   0,   0],\n",
              "       ...,\n",
              "       [  0,   0,   0, ...,   0,   0,   0],\n",
              "       [  1,   1,   1, ...,   0,   0,   0],\n",
              "       [  0,   0,   0, ...,   0,   0,   0]])"
            ]
          },
          "metadata": {},
          "execution_count": 14
        }
      ]
    },
    {
      "cell_type": "code",
      "execution_count": null,
      "metadata": {
        "colab": {
          "base_uri": "https://localhost:8080/"
        },
        "id": "6uIqR16HRXBz",
        "outputId": "5719c196-81bd-4be1-981f-0ed4025f787f"
      },
      "outputs": [
        {
          "output_type": "stream",
          "name": "stdout",
          "text": [
            "(700, 451584)\n"
          ]
        }
      ],
      "source": [
        "print(Datos3K.shape)"
      ]
    },
    {
      "cell_type": "code",
      "source": [
        "X =np.reshape(Datos3K,(Datos3K.shape[0],1,224,672,3))\n",
        "X = X.astype('float32') / 255.\n",
        "X.shape"
      ],
      "metadata": {
        "colab": {
          "base_uri": "https://localhost:8080/"
        },
        "outputId": "cd4cf8ad-aea9-4518-fb1a-febc1f914359",
        "id": "lnohdg8vcNO4"
      },
      "execution_count": null,
      "outputs": [
        {
          "output_type": "execute_result",
          "data": {
            "text/plain": [
              "(700, 1, 224, 672, 3)"
            ]
          },
          "metadata": {},
          "execution_count": 16
        }
      ]
    },
    {
      "cell_type": "code",
      "source": [
        "print(X.shape)"
      ],
      "metadata": {
        "id": "obDlqbU4444a",
        "colab": {
          "base_uri": "https://localhost:8080/"
        },
        "outputId": "7545500e-3bc6-4ced-ee62-a3b1efe3b283"
      },
      "execution_count": null,
      "outputs": [
        {
          "output_type": "stream",
          "name": "stdout",
          "text": [
            "(700, 1, 224, 672, 3)\n"
          ]
        }
      ]
    },
    {
      "cell_type": "code",
      "source": [
        "Yvalues = []\n",
        "for i in range(100): \n",
        "  Yvalues.append(i)\n",
        "Yvalues= np.array(Yvalues)\n",
        "Yvalues = np.concatenate([Yvalues, Yvalues,Yvalues,Yvalues,Yvalues,Yvalues,Yvalues])"
      ],
      "metadata": {
        "id": "RfmKpKIXaeKx"
      },
      "execution_count": null,
      "outputs": []
    },
    {
      "cell_type": "code",
      "source": [
        "#Yvalues=Yvalues.reshape(50,1)\n",
        "Yvalues.shape"
      ],
      "metadata": {
        "colab": {
          "base_uri": "https://localhost:8080/"
        },
        "outputId": "c21a0d25-732d-4317-b6d4-66bcf3318e40",
        "id": "wGdunsh5sUS0"
      },
      "execution_count": null,
      "outputs": [
        {
          "output_type": "execute_result",
          "data": {
            "text/plain": [
              "(700,)"
            ]
          },
          "metadata": {},
          "execution_count": 19
        }
      ]
    },
    {
      "cell_type": "code",
      "source": [
        "# Change the labels from categorical to one-hot encoding\n",
        "train_Y_one_hot = to_categorical(Yvalues)\n",
        "\n",
        "# Display the change for category label using one-hot encoding\n",
        "print('Original label:', Yvalues[0])\n",
        "print('After conversion to one-hot:', train_Y_one_hot[0])"
      ],
      "metadata": {
        "colab": {
          "base_uri": "https://localhost:8080/"
        },
        "outputId": "c8205880-1699-4275-d54e-84b3fc3b3430",
        "id": "m2dLdqaqsUS1"
      },
      "execution_count": null,
      "outputs": [
        {
          "output_type": "stream",
          "name": "stdout",
          "text": [
            "Original label: 0\n",
            "After conversion to one-hot: [1. 0. 0. 0. 0. 0. 0. 0. 0. 0. 0. 0. 0. 0. 0. 0. 0. 0. 0. 0. 0. 0. 0. 0.\n",
            " 0. 0. 0. 0. 0. 0. 0. 0. 0. 0. 0. 0. 0. 0. 0. 0. 0. 0. 0. 0. 0. 0. 0. 0.\n",
            " 0. 0. 0. 0. 0. 0. 0. 0. 0. 0. 0. 0. 0. 0. 0. 0. 0. 0. 0. 0. 0. 0. 0. 0.\n",
            " 0. 0. 0. 0. 0. 0. 0. 0. 0. 0. 0. 0. 0. 0. 0. 0. 0. 0. 0. 0. 0. 0. 0. 0.\n",
            " 0. 0. 0. 0.]\n"
          ]
        }
      ]
    },
    {
      "cell_type": "code",
      "source": [
        "train_X,valid_X,train_label,valid_label = train_test_split(X,train_Y_one_hot,test_size=0.2)\n"
      ],
      "metadata": {
        "id": "H48ElDMisUS1"
      },
      "execution_count": null,
      "outputs": []
    },
    {
      "cell_type": "code",
      "source": [
        "num_classes=100\n",
        "input_img = Input(shape=(1,224, 672, 3)) \n",
        "def encoder(input_img):\n",
        "    #encoder\n",
        "    #input = 224 x 672 x 3 (wide and thin) \n",
        "    x= TimeDistributed(Conv2D(128, (11, 11), strides=4, padding=\"same\"), batch_input_shape=(None, 1, 224, 672, 3))(input_img)\n",
        "    x= LayerNormalization()(x)\n",
        "    x= TimeDistributed(Conv2D(64, (5, 5), strides=2, padding=\"same\"))(x)\n",
        "    x= LayerNormalization()(x)\n",
        "    x= ConvLSTM2D(64, (3, 3), padding=\"same\", return_sequences=True)(x)\n",
        "    x= LayerNormalization()(x)\n",
        "    encoded= ConvLSTM2D(32, (3, 3), padding=\"same\", return_sequences=True)(x)\n",
        "    \n",
        "\n",
        "    x=(LayerNormalization())(encoded)\n",
        "    x=(ConvLSTM2D(64, (3, 3), padding=\"same\", return_sequences=True))(x)\n",
        "    x=(LayerNormalization())(x)\n",
        "    X=(TimeDistributed(Conv2DTranspose(64, (5, 5), strides=2, padding=\"same\")))(x)\n",
        "    x=(LayerNormalization())(x)\n",
        "    x=(TimeDistributed(Conv2DTranspose(128, (11, 11), strides=4, padding=\"same\")))(x)\n",
        "    x=(LayerNormalization())(x)\n",
        "    decoded=(TimeDistributed(Conv2D(1, (11, 11), activation=\"sigmoid\", padding=\"same\")))(x)\n",
        "    return decoded\n",
        "def fc(enco):\n",
        "    flat = Flatten()(enco)\n",
        "    den = Dense(128, activation='relu')(flat)\n",
        "    den= Dropout(0.2)(den)\n",
        "    den = Dense(80, activation='relu')(den)\n",
        "    den= Dropout(0.2)(den)\n",
        "    out = Dense(num_classes, activation='softmax')(den)\n",
        "    return out\n",
        "\n",
        "encode = encoder(input_img)\n",
        "autoencoderClassifier = Model(input_img,fc(encode))"
      ],
      "metadata": {
        "id": "7nexN8uPcRjV"
      },
      "execution_count": null,
      "outputs": []
    },
    {
      "cell_type": "code",
      "source": [
        "autoencoderClassifier.compile(loss='categorical_crossentropy', optimizer=keras.optimizers.Adam(),metrics=['accuracy'])\n"
      ],
      "metadata": {
        "id": "bTFL-_04Y8Tw"
      },
      "execution_count": null,
      "outputs": []
    },
    {
      "cell_type": "code",
      "source": [
        "classify_train = autoencoderClassifier.fit(train_X, train_label, batch_size=5,epochs=20,verbose=1,validation_data=(valid_X, valid_label))\n"
      ],
      "metadata": {
        "id": "y6pJnGzVZyPB",
        "colab": {
          "base_uri": "https://localhost:8080/"
        },
        "outputId": "88a2d3e8-cf3c-4d74-ad47-f1041ec4f0a0"
      },
      "execution_count": null,
      "outputs": [
        {
          "output_type": "stream",
          "name": "stdout",
          "text": [
            "Epoch 1/20\n",
            "112/112 [==============================] - 36s 194ms/step - loss: 4.8281 - accuracy: 0.0036 - val_loss: 4.6105 - val_accuracy: 0.0000e+00\n",
            "Epoch 2/20\n",
            "112/112 [==============================] - 21s 187ms/step - loss: 4.6059 - accuracy: 0.0054 - val_loss: 4.6140 - val_accuracy: 0.0000e+00\n",
            "Epoch 3/20\n",
            "112/112 [==============================] - 22s 194ms/step - loss: 4.6050 - accuracy: 0.0018 - val_loss: 4.6181 - val_accuracy: 0.0000e+00\n",
            "Epoch 4/20\n",
            "112/112 [==============================] - 22s 195ms/step - loss: 4.6042 - accuracy: 0.0054 - val_loss: 4.6220 - val_accuracy: 0.0000e+00\n",
            "Epoch 5/20\n",
            "112/112 [==============================] - 22s 193ms/step - loss: 4.6031 - accuracy: 0.0089 - val_loss: 4.6264 - val_accuracy: 0.0000e+00\n",
            "Epoch 6/20\n",
            "112/112 [==============================] - 21s 192ms/step - loss: 4.6023 - accuracy: 0.0125 - val_loss: 4.6314 - val_accuracy: 0.0000e+00\n",
            "Epoch 7/20\n",
            "112/112 [==============================] - 22s 194ms/step - loss: 4.6018 - accuracy: 0.0071 - val_loss: 4.6356 - val_accuracy: 0.0000e+00\n",
            "Epoch 8/20\n",
            "112/112 [==============================] - 22s 194ms/step - loss: 4.6010 - accuracy: 0.0089 - val_loss: 4.6405 - val_accuracy: 0.0000e+00\n",
            "Epoch 9/20\n",
            "112/112 [==============================] - 22s 193ms/step - loss: 4.6002 - accuracy: 0.0125 - val_loss: 4.6468 - val_accuracy: 0.0000e+00\n",
            "Epoch 10/20\n",
            "112/112 [==============================] - 22s 193ms/step - loss: 4.5996 - accuracy: 0.0107 - val_loss: 4.6519 - val_accuracy: 0.0000e+00\n",
            "Epoch 11/20\n",
            "112/112 [==============================] - 22s 194ms/step - loss: 4.5991 - accuracy: 0.0107 - val_loss: 4.6558 - val_accuracy: 0.0000e+00\n",
            "Epoch 12/20\n",
            "112/112 [==============================] - 22s 194ms/step - loss: 4.5978 - accuracy: 0.0107 - val_loss: 4.6625 - val_accuracy: 0.0000e+00\n",
            "Epoch 13/20\n",
            "112/112 [==============================] - 22s 194ms/step - loss: 4.5967 - accuracy: 0.0107 - val_loss: 4.6722 - val_accuracy: 0.0000e+00\n",
            "Epoch 14/20\n",
            "112/112 [==============================] - 22s 194ms/step - loss: 4.5986 - accuracy: 0.0071 - val_loss: 4.6767 - val_accuracy: 0.0000e+00\n",
            "Epoch 15/20\n",
            "112/112 [==============================] - 22s 194ms/step - loss: 4.5960 - accuracy: 0.0107 - val_loss: 4.6828 - val_accuracy: 0.0000e+00\n",
            "Epoch 16/20\n",
            "112/112 [==============================] - 22s 193ms/step - loss: 4.5958 - accuracy: 0.0089 - val_loss: 4.6886 - val_accuracy: 0.0000e+00\n",
            "Epoch 17/20\n",
            "112/112 [==============================] - 22s 193ms/step - loss: 4.5954 - accuracy: 0.0089 - val_loss: 4.6955 - val_accuracy: 0.0000e+00\n",
            "Epoch 18/20\n",
            "112/112 [==============================] - 22s 193ms/step - loss: 4.5956 - accuracy: 0.0089 - val_loss: 4.6985 - val_accuracy: 0.0000e+00\n",
            "Epoch 19/20\n",
            "112/112 [==============================] - 22s 193ms/step - loss: 4.5940 - accuracy: 0.0125 - val_loss: 4.7045 - val_accuracy: 0.0000e+00\n",
            "Epoch 20/20\n",
            "112/112 [==============================] - 22s 193ms/step - loss: 4.5939 - accuracy: 0.0143 - val_loss: 4.7083 - val_accuracy: 0.0000e+00\n"
          ]
        }
      ]
    },
    {
      "cell_type": "code",
      "source": [
        "print(classify_train.history.keys())\n",
        "# summarize history for accuracy\n",
        "plt.plot(classify_train.history['accuracy'])\n",
        "plt.plot(classify_train.history['val_accuracy'])\n",
        "plt.title('model accuracy')\n",
        "plt.ylabel('accuracy')\n",
        "plt.xlabel('epoch')\n",
        "plt.legend(['train', 'test'], loc='upper left')\n",
        "plt.show()\n",
        "# summarize history for loss\n",
        "plt.plot(classify_train.history['loss'])\n",
        "plt.plot(classify_train.history['val_loss'])\n",
        "plt.title('model loss')\n",
        "plt.ylabel('loss')\n",
        "plt.xlabel('epoch')\n",
        "plt.legend(['train', 'test'], loc='upper left')\n",
        "plt.show()"
      ],
      "metadata": {
        "id": "VhqQ-lfw3tP8",
        "colab": {
          "base_uri": "https://localhost:8080/",
          "height": 590
        },
        "outputId": "343a57f2-4b58-4c8c-f653-54444183cef6"
      },
      "execution_count": null,
      "outputs": [
        {
          "output_type": "stream",
          "name": "stdout",
          "text": [
            "dict_keys(['loss', 'accuracy', 'val_loss', 'val_accuracy'])\n"
          ]
        },
        {
          "output_type": "display_data",
          "data": {
            "text/plain": [
              "<Figure size 432x288 with 1 Axes>"
            ],
            "image/png": "[encoded data removed]"
          },
          "metadata": {
            "needs_background": "light"
          }
        },
        {
          "output_type": "display_data",
          "data": {
            "text/plain": [
              "<Figure size 432x288 with 1 Axes>"
            ],
            "image/png": "[encoded data removed]"
          },
          "metadata": {
            "needs_background": "light"
          }
        }
      ]
    },
    {
      "cell_type": "code",
      "source": [
        "test_eval = autoencoderClassifier.evaluate(valid_X, valid_label, verbose=0)\n"
      ],
      "metadata": {
        "id": "H0w8Pv0Dx5MK"
      },
      "execution_count": null,
      "outputs": []
    },
    {
      "cell_type": "code",
      "source": [
        "print('Test loss:', test_eval[0])\n",
        "print('Test accuracy:', test_eval[1])"
      ],
      "metadata": {
        "colab": {
          "base_uri": "https://localhost:8080/"
        },
        "id": "uQ3k8OGrnKM1",
        "outputId": "9122d450-3ef8-4d16-ffda-da743fe0c0ae"
      },
      "execution_count": null,
      "outputs": [
        {
          "output_type": "stream",
          "name": "stdout",
          "text": [
            "Test loss: 4.708333969116211\n",
            "Test accuracy: 0.0\n"
          ]
        }
      ]
    },
    {
      "cell_type": "code",
      "source": [
        "predicted_classes = autoencoderClassifier.predict(X)\n"
      ],
      "metadata": {
        "colab": {
          "base_uri": "https://localhost:8080/"
        },
        "id": "gIJ9UoOvnLhI",
        "outputId": "a1c51535-0767-4049-dbf3-f0b7cbfe4f9c"
      },
      "execution_count": null,
      "outputs": [
        {
          "output_type": "stream",
          "name": "stdout",
          "text": [
            "22/22 [==============================] - 12s 525ms/step\n"
          ]
        }
      ]
    },
    {
      "cell_type": "code",
      "source": [
        "predicted_classes = np.argmax(np.round(predicted_classes),axis=1)\n"
      ],
      "metadata": {
        "id": "xARTkBPDnTa0"
      },
      "execution_count": null,
      "outputs": []
    },
    {
      "cell_type": "code",
      "source": [
        "predicted_classes.shape, Yvalues.shape\n"
      ],
      "metadata": {
        "colab": {
          "base_uri": "https://localhost:8080/"
        },
        "id": "_0yWGtZInXm-",
        "outputId": "8514d713-cc72-4e94-fb1e-ca2745a1b8f5"
      },
      "execution_count": null,
      "outputs": [
        {
          "output_type": "execute_result",
          "data": {
            "text/plain": [
              "((700,), (700,))"
            ]
          },
          "metadata": {},
          "execution_count": 36
        }
      ]
    },
    {
      "cell_type": "code",
      "source": [
        "incorrect = np.where(predicted_classes!=Yvalues)[0]\n",
        "print (\"Found %d incorrect labels\" % len(incorrect))\n",
        "for i, incorrect in enumerate(incorrect[:9]):\n",
        "    plt.subplot(3,3,i+1)\n",
        "    plt.imshow(X[incorrect].reshape(224,672,3), interpolation='none')\n",
        "    plt.title(\"Predicted {}, Class {}\".format(predicted_classes[incorrect], Yvalues[incorrect]))\n",
        "    plt.tight_layout()"
      ],
      "metadata": {
        "colab": {
          "base_uri": "https://localhost:8080/"
        },
        "id": "UXKufg3soFs6",
        "outputId": "59bdf3a4-c8fc-4735-d902-8a11fba8ed8f"
      },
      "execution_count": null,
      "outputs": [
        {
          "output_type": "stream",
          "name": "stdout",
          "text": [
            "Found 693 incorrect labels\n"
          ]
        },
        {
          "output_type": "display_data",
          "data": {
            "text/plain": [
              "<Figure size 432x288 with 7 Axes>"
            ],
            "image/png": "[encoded data removed]"
          },
          "metadata": {
            "needs_background": "light"
          }
        }
      ]
    },
    {
      "cell_type": "code",
      "source": [
        "from sklearn.metrics import classification_report\n",
        "target_names = [\"Class {}\".format(i) for i in range(num_classes)]\n",
        "print(classification_report(Yvalues, predicted_classes, target_names=target_names))"
      ],
      "metadata": {
        "id": "bzWndrcphUBA",
        "colab": {
          "base_uri": "https://localhost:8080/"
        },
        "outputId": "82ba9ce7-f4ac-4c9d-9170-531c79b507ac"
      },
      "execution_count": null,
      "outputs": [
        {
          "output_type": "stream",
          "name": "stdout",
          "text": [
            "              precision    recall  f1-score   support\n",
            "\n",
            "     Class 0       0.01      1.00      0.02         7\n",
            "     Class 1       0.00      0.00      0.00         7\n",
            "     Class 2       0.00      0.00      0.00         7\n",
            "     Class 3       0.00      0.00      0.00         7\n",
            "     Class 4       0.00      0.00      0.00         7\n",
            "     Class 5       0.00      0.00      0.00         7\n",
            "     Class 6       0.00      0.00      0.00         7\n",
            "     Class 7       0.00      0.00      0.00         7\n",
            "     Class 8       0.00      0.00      0.00         7\n",
            "     Class 9       0.00      0.00      0.00         7\n",
            "    Class 10       0.00      0.00      0.00         7\n",
            "    Class 11       0.00      0.00      0.00         7\n",
            "    Class 12       0.00      0.00      0.00         7\n",
            "    Class 13       0.00      0.00      0.00         7\n",
            "    Class 14       0.00      0.00      0.00         7\n",
            "    Class 15       0.00      0.00      0.00         7\n",
            "    Class 16       0.00      0.00      0.00         7\n",
            "    Class 17       0.00      0.00      0.00         7\n",
            "    Class 18       0.00      0.00      0.00         7\n",
            "    Class 19       0.00      0.00      0.00         7\n",
            "    Class 20       0.00      0.00      0.00         7\n",
            "    Class 21       0.00      0.00      0.00         7\n",
            "    Class 22       0.00      0.00      0.00         7\n",
            "    Class 23       0.00      0.00      0.00         7\n",
            "    Class 24       0.00      0.00      0.00         7\n",
            "    Class 25       0.00      0.00      0.00         7\n",
            "    Class 26       0.00      0.00      0.00         7\n",
            "    Class 27       0.00      0.00      0.00         7\n",
            "    Class 28       0.00      0.00      0.00         7\n",
            "    Class 29       0.00      0.00      0.00         7\n",
            "    Class 30       0.00      0.00      0.00         7\n",
            "    Class 31       0.00      0.00      0.00         7\n",
            "    Class 32       0.00      0.00      0.00         7\n",
            "    Class 33       0.00      0.00      0.00         7\n",
            "    Class 34       0.00      0.00      0.00         7\n",
            "    Class 35       0.00      0.00      0.00         7\n",
            "    Class 36       0.00      0.00      0.00         7\n",
            "    Class 37       0.00      0.00      0.00         7\n",
            "    Class 38       0.00      0.00      0.00         7\n",
            "    Class 39       0.00      0.00      0.00         7\n",
            "    Class 40       0.00      0.00      0.00         7\n",
            "    Class 41       0.00      0.00      0.00         7\n",
            "    Class 42       0.00      0.00      0.00         7\n",
            "    Class 43       0.00      0.00      0.00         7\n",
            "    Class 44       0.00      0.00      0.00         7\n",
            "    Class 45       0.00      0.00      0.00         7\n",
            "    Class 46       0.00      0.00      0.00         7\n",
            "    Class 47       0.00      0.00      0.00         7\n",
            "    Class 48       0.00      0.00      0.00         7\n",
            "    Class 49       0.00      0.00      0.00         7\n",
            "    Class 50       0.00      0.00      0.00         7\n",
            "    Class 51       0.00      0.00      0.00         7\n",
            "    Class 52       0.00      0.00      0.00         7\n",
            "    Class 53       0.00      0.00      0.00         7\n",
            "    Class 54       0.00      0.00      0.00         7\n",
            "    Class 55       0.00      0.00      0.00         7\n",
            "    Class 56       0.00      0.00      0.00         7\n",
            "    Class 57       0.00      0.00      0.00         7\n",
            "    Class 58       0.00      0.00      0.00         7\n",
            "    Class 59       0.00      0.00      0.00         7\n",
            "    Class 60       0.00      0.00      0.00         7\n",
            "    Class 61       0.00      0.00      0.00         7\n",
            "    Class 62       0.00      0.00      0.00         7\n",
            "    Class 63       0.00      0.00      0.00         7\n",
            "    Class 64       0.00      0.00      0.00         7\n",
            "    Class 65       0.00      0.00      0.00         7\n",
            "    Class 66       0.00      0.00      0.00         7\n",
            "    Class 67       0.00      0.00      0.00         7\n",
            "    Class 68       0.00      0.00      0.00         7\n",
            "    Class 69       0.00      0.00      0.00         7\n",
            "    Class 70       0.00      0.00      0.00         7\n",
            "    Class 71       0.00      0.00      0.00         7\n",
            "    Class 72       0.00      0.00      0.00         7\n",
            "    Class 73       0.00      0.00      0.00         7\n",
            "    Class 74       0.00      0.00      0.00         7\n",
            "    Class 75       0.00      0.00      0.00         7\n",
            "    Class 76       0.00      0.00      0.00         7\n",
            "    Class 77       0.00      0.00      0.00         7\n",
            "    Class 78       0.00      0.00      0.00         7\n",
            "    Class 79       0.00      0.00      0.00         7\n",
            "    Class 80       0.00      0.00      0.00         7\n",
            "    Class 81       0.00      0.00      0.00         7\n",
            "    Class 82       0.00      0.00      0.00         7\n",
            "    Class 83       0.00      0.00      0.00         7\n",
            "    Class 84       0.00      0.00      0.00         7\n",
            "    Class 85       0.00      0.00      0.00         7\n",
            "    Class 86       0.00      0.00      0.00         7\n",
            "    Class 87       0.00      0.00      0.00         7\n",
            "    Class 88       0.00      0.00      0.00         7\n",
            "    Class 89       0.00      0.00      0.00         7\n",
            "    Class 90       0.00      0.00      0.00         7\n",
            "    Class 91       0.00      0.00      0.00         7\n",
            "    Class 92       0.00      0.00      0.00         7\n",
            "    Class 93       0.00      0.00      0.00         7\n",
            "    Class 94       0.00      0.00      0.00         7\n",
            "    Class 95       0.00      0.00      0.00         7\n",
            "    Class 96       0.00      0.00      0.00         7\n",
            "    Class 97       0.00      0.00      0.00         7\n",
            "    Class 98       0.00      0.00      0.00         7\n",
            "    Class 99       0.00      0.00      0.00         7\n",
            "\n",
            "    accuracy                           0.01       700\n",
            "   macro avg       0.00      0.01      0.00       700\n",
            "weighted avg       0.00      0.01      0.00       700\n",
            "\n"
          ]
        },
        {
          "output_type": "stream",
          "name": "stderr",
          "text": [
            "/usr/local/lib/python3.8/dist-packages/sklearn/metrics/_classification.py:1318: UndefinedMetricWarning: Precision and F-score are ill-defined and being set to 0.0 in labels with no predicted samples. Use `zero_division` parameter to control this behavior.\n",
            "  _warn_prf(average, modifier, msg_start, len(result))\n",
            "/usr/local/lib/python3.8/dist-packages/sklearn/metrics/_classification.py:1318: UndefinedMetricWarning: Precision and F-score are ill-defined and being set to 0.0 in labels with no predicted samples. Use `zero_division` parameter to control this behavior.\n",
            "  _warn_prf(average, modifier, msg_start, len(result))\n",
            "/usr/local/lib/python3.8/dist-packages/sklearn/metrics/_classification.py:1318: UndefinedMetricWarning: Precision and F-score are ill-defined and being set to 0.0 in labels with no predicted samples. Use `zero_division` parameter to control this behavior.\n",
            "  _warn_prf(average, modifier, msg_start, len(result))\n"
          ]
        }
      ]
    },
    {
      "cell_type": "code",
      "source": [
        "autoencoderClassifier.save('4.Classification-FullAutoEncoder-ConvLSTM.h5')"
      ],
      "metadata": {
        "id": "Q1IIuU8D2xXu"
      },
      "execution_count": null,
      "outputs": []
    }
  ]
}