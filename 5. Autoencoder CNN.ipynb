{
  "nbformat": 4,
  "nbformat_minor": 0,
  "metadata": {
    "colab": {
      "provenance": [],
      "machine_shape": "hm"
    },
    "kernelspec": {
      "name": "python3",
      "display_name": "Python 3"
    },
    "language_info": {
      "name": "python"
    },
    "accelerator": "GPU",
    "gpuClass": "premium"
  },
  "cells": [
    {
      "cell_type": "code",
      "source": [
        "from array import array\n",
        "import numpy as np\n",
        "from pandas import read_csv\n",
        "from sklearn.model_selection import train_test_split \n",
        "import tensorflow as tf\n",
        "from matplotlib import pyplot as plt\n",
        "import keras\n",
        "from keras import layers\n",
        "from keras.layers import Input, Dense, Conv2D, MaxPooling2D, UpSampling2D,Flatten,Dropout\n",
        "from keras.models import Model\n",
        "from keras import backend as K\n",
        "from keras.utils import to_categorical"
      ],
      "metadata": {
        "id": "NH-f5NGTuD6c"
      },
      "execution_count": null,
      "outputs": []
    },
    {
      "cell_type": "code",
      "source": [
        "Datos3K=read_csv('/content/3KAutoEncoder.csv',delimiter=',', index_col=False)\n",
        "#Datos3K = array(Datos3K)\n",
        "\n"
      ],
      "metadata": {
        "id": "JbRaVfcGRWuo"
      },
      "execution_count": null,
      "outputs": []
    },
    {
      "cell_type": "code",
      "source": [
        "Datos3K = Datos3K.to_numpy()\n",
        "Datos3K.shape\n"
      ],
      "metadata": {
        "colab": {
          "base_uri": "https://localhost:8080/"
        },
        "outputId": "9e387912-3a79-482c-e7f5-5b9660446b65",
        "id": "vGL1dwrKNlmL"
      },
      "execution_count": null,
      "outputs": [
        {
          "output_type": "execute_result",
          "data": {
            "text/plain": [
              "(451584, 100)"
            ]
          },
          "metadata": {},
          "execution_count": 3
        }
      ]
    },
    {
      "cell_type": "code",
      "source": [
        "Datos3K=Datos3K[:,:100]\n",
        "Datos3K.shape"
      ],
      "metadata": {
        "colab": {
          "base_uri": "https://localhost:8080/"
        },
        "id": "D3g_dy4aMeOb",
        "outputId": "5dbe7b6e-8b53-4770-f34a-98921bb1274d"
      },
      "execution_count": null,
      "outputs": [
        {
          "output_type": "execute_result",
          "data": {
            "text/plain": [
              "(451584, 100)"
            ]
          },
          "metadata": {},
          "execution_count": 4
        }
      ]
    },
    {
      "cell_type": "code",
      "execution_count": null,
      "metadata": {
        "colab": {
          "base_uri": "https://localhost:8080/"
        },
        "id": "u5mu0n2jRXBz",
        "outputId": "0f466be4-3f36-415f-b376-682bd817c922"
      },
      "outputs": [
        {
          "output_type": "stream",
          "name": "stdout",
          "text": [
            "(150528, 100) (150528, 100) (150528, 100)\n"
          ]
        }
      ],
      "source": [
        "parte1=(Datos3K[0:150528,:])\n",
        "parte2=(Datos3K[150528:301056,:])\n",
        "parte3=(Datos3K[301056:,:])\n",
        "print(parte1.shape,parte2.shape,parte3.shape)"
      ]
    },
    {
      "cell_type": "code",
      "source": [
        "ceros=np.zeros((224,224,3,100))\n",
        "ceros=ceros.reshape(150528,100)\n",
        "ceros = np.asarray(ceros, dtype = 'int')\n",
        "ceros.shape"
      ],
      "metadata": {
        "colab": {
          "base_uri": "https://localhost:8080/"
        },
        "id": "LmXhksqNgMt7",
        "outputId": "f47b2c70-042c-4f0f-93b5-f9ced6eccaca"
      },
      "execution_count": null,
      "outputs": [
        {
          "output_type": "execute_result",
          "data": {
            "text/plain": [
              "(150528, 100)"
            ]
          },
          "metadata": {},
          "execution_count": 6
        }
      ]
    },
    {
      "cell_type": "code",
      "execution_count": null,
      "metadata": {
        "id": "TYRonSScRXBz"
      },
      "outputs": [],
      "source": [
        "Data1=list()\n",
        "Data1 = np.concatenate([parte1, parte2,parte3])\n",
        "Data2 = np.concatenate([parte1, parte3,parte2])\n",
        "Data3 = np.concatenate([parte3, parte2,parte1])\n",
        "Data4 = np.concatenate([parte2, parte3,parte1])\n",
        "\n",
        "Data5 = np.concatenate([parte1, ceros,ceros])\n",
        "Data6 = np.concatenate([parte2, ceros,ceros])\n",
        "Data7 = np.concatenate([parte3, ceros,ceros])\n"
      ]
    },
    {
      "cell_type": "code",
      "source": [
        "Data5.shape"
      ],
      "metadata": {
        "colab": {
          "base_uri": "https://localhost:8080/"
        },
        "id": "tqrXn2NF2SR4",
        "outputId": "6ef2bd6a-532e-4029-c7b7-4054ed9169e4"
      },
      "execution_count": null,
      "outputs": [
        {
          "output_type": "execute_result",
          "data": {
            "text/plain": [
              "(451584, 100)"
            ]
          },
          "metadata": {},
          "execution_count": 8
        }
      ]
    },
    {
      "cell_type": "code",
      "source": [
        "Show=Data5[:,1]\n",
        "Show=Show.transpose()\n",
        "Show=Show.reshape(224,672,3)\n",
        "Show.shape"
      ],
      "metadata": {
        "colab": {
          "base_uri": "https://localhost:8080/"
        },
        "id": "fULx4ORu8orR",
        "outputId": "03566782-bad4-4a77-8f88-1fa60de7b1e4"
      },
      "execution_count": null,
      "outputs": [
        {
          "output_type": "execute_result",
          "data": {
            "text/plain": [
              "(224, 672, 3)"
            ]
          },
          "metadata": {},
          "execution_count": 9
        }
      ]
    },
    {
      "cell_type": "code",
      "source": [
        "plt.imshow(Show)"
      ],
      "metadata": {
        "colab": {
          "base_uri": "https://localhost:8080/",
          "height": 180
        },
        "id": "RqGE3Jbz1J-B",
        "outputId": "a87a288f-c3b5-447c-b43d-b5a7b9e417a4"
      },
      "execution_count": null,
      "outputs": [
        {
          "output_type": "execute_result",
          "data": {
            "text/plain": [
              "<matplotlib.image.AxesImage at 0x7f2d623ced60>"
            ]
          },
          "metadata": {},
          "execution_count": 10
        },
        {
          "output_type": "display_data",
          "data": {
            "text/plain": [
              "<Figure size 432x288 with 1 Axes>"
            ],
            "image/png": "[encoded data removed]"
          },
          "metadata": {
            "needs_background": "light"
          }
        }
      ]
    },
    {
      "cell_type": "code",
      "execution_count": null,
      "metadata": {
        "id": "21VFqUKaRXBz"
      },
      "outputs": [],
      "source": [
        "Data1=Data1.transpose()\n",
        "Data2=Data2.transpose()\n",
        "Data3=Data3.transpose()\n",
        "Data4=Data4.transpose()\n",
        "Data5=Data5.transpose()\n",
        "Data6=Data6.transpose()\n",
        "Data7=Data7.transpose()\n",
        "Datos3K=np.concatenate([Data1, Data2,Data3,Data4,Data5,Data6,Data7])"
      ]
    },
    {
      "cell_type": "code",
      "source": [
        "Datos3K"
      ],
      "metadata": {
        "colab": {
          "base_uri": "https://localhost:8080/"
        },
        "id": "utQPZm0yLgoE",
        "outputId": "20b1e26e-a07e-4fc2-b301-091f28b6527d"
      },
      "execution_count": null,
      "outputs": [
        {
          "output_type": "execute_result",
          "data": {
            "text/plain": [
              "array([[230, 179,  98, ..., 196, 143,  67],\n",
              "       [  5,   0,   4, ...,   0,   1,   2],\n",
              "       [  0,   0,   0, ...,   1,   0,   0],\n",
              "       ...,\n",
              "       [  0,   0,   0, ...,   0,   0,   0],\n",
              "       [  1,   1,   1, ...,   0,   0,   0],\n",
              "       [  0,   0,   0, ...,   0,   0,   0]])"
            ]
          },
          "metadata": {},
          "execution_count": 12
        }
      ]
    },
    {
      "cell_type": "code",
      "execution_count": null,
      "metadata": {
        "colab": {
          "base_uri": "https://localhost:8080/"
        },
        "id": "6uIqR16HRXBz",
        "outputId": "d474fc50-f648-4954-8087-26b05f7e341b"
      },
      "outputs": [
        {
          "output_type": "stream",
          "name": "stdout",
          "text": [
            "(700, 451584)\n"
          ]
        }
      ],
      "source": [
        "print(Datos3K.shape)"
      ]
    },
    {
      "cell_type": "code",
      "source": [
        "X =np.reshape(Datos3K,(Datos3K.shape[0],224,672,3))\n",
        "X = X.astype('float32') / 255.\n",
        "X.shape"
      ],
      "metadata": {
        "colab": {
          "base_uri": "https://localhost:8080/"
        },
        "outputId": "0ba8a759-0402-4a30-d2bb-ad7d8fbc1064",
        "id": "J8pJEBpmNlmX"
      },
      "execution_count": null,
      "outputs": [
        {
          "output_type": "execute_result",
          "data": {
            "text/plain": [
              "(700, 224, 672, 3)"
            ]
          },
          "metadata": {},
          "execution_count": 14
        }
      ]
    },
    {
      "cell_type": "code",
      "source": [
        "print(X.shape)"
      ],
      "metadata": {
        "colab": {
          "base_uri": "https://localhost:8080/"
        },
        "outputId": "d48c4ca7-ccae-427f-e1c0-876014f1c62b",
        "id": "_n2wP4MWNlmX"
      },
      "execution_count": null,
      "outputs": [
        {
          "output_type": "stream",
          "name": "stdout",
          "text": [
            "(700, 224, 672, 3)\n"
          ]
        }
      ]
    },
    {
      "cell_type": "code",
      "source": [
        "Yvalues = []\n",
        "for i in range(100): \n",
        "  Yvalues.append(i)\n",
        "Yvalues= np.array(Yvalues)\n",
        "Yvalues = np.concatenate([Yvalues, Yvalues,Yvalues,Yvalues,Yvalues,Yvalues,Yvalues])"
      ],
      "metadata": {
        "id": "IscC18OYRiWg"
      },
      "execution_count": null,
      "outputs": []
    },
    {
      "cell_type": "code",
      "source": [
        "#Yvalues=Yvalues.reshape(50,1)\n",
        "Yvalues.shape"
      ],
      "metadata": {
        "id": "A0SMjd6oSb5w",
        "colab": {
          "base_uri": "https://localhost:8080/"
        },
        "outputId": "a2ddfe71-39c7-40cb-f165-38583d09f188"
      },
      "execution_count": null,
      "outputs": [
        {
          "output_type": "execute_result",
          "data": {
            "text/plain": [
              "(700,)"
            ]
          },
          "metadata": {},
          "execution_count": 17
        }
      ]
    },
    {
      "cell_type": "code",
      "source": [
        "# Change the labels from categorical to one-hot encoding\n",
        "train_Y_one_hot = to_categorical(Yvalues)\n",
        "\n",
        "# Display the change for category label using one-hot encoding\n",
        "print('Original label:', Yvalues[0])\n",
        "print('After conversion to one-hot:', train_Y_one_hot[0])"
      ],
      "metadata": {
        "id": "nwVpaosnsQ0Z",
        "colab": {
          "base_uri": "https://localhost:8080/"
        },
        "outputId": "3e8bf0d4-aeda-4995-9ac8-7749b27e4625"
      },
      "execution_count": null,
      "outputs": [
        {
          "output_type": "stream",
          "name": "stdout",
          "text": [
            "Original label: 0\n",
            "After conversion to one-hot: [1. 0. 0. 0. 0. 0. 0. 0. 0. 0. 0. 0. 0. 0. 0. 0. 0. 0. 0. 0. 0. 0. 0. 0.\n",
            " 0. 0. 0. 0. 0. 0. 0. 0. 0. 0. 0. 0. 0. 0. 0. 0. 0. 0. 0. 0. 0. 0. 0. 0.\n",
            " 0. 0. 0. 0. 0. 0. 0. 0. 0. 0. 0. 0. 0. 0. 0. 0. 0. 0. 0. 0. 0. 0. 0. 0.\n",
            " 0. 0. 0. 0. 0. 0. 0. 0. 0. 0. 0. 0. 0. 0. 0. 0. 0. 0. 0. 0. 0. 0. 0. 0.\n",
            " 0. 0. 0. 0.]\n"
          ]
        }
      ]
    },
    {
      "cell_type": "code",
      "source": [
        "train_X,valid_X,train_label,valid_label = train_test_split(X,train_Y_one_hot,test_size=0.2)\n"
      ],
      "metadata": {
        "id": "DkL3DR1aVUDj"
      },
      "execution_count": null,
      "outputs": []
    },
    {
      "cell_type": "code",
      "source": [
        "print(train_X.shape,valid_X.shape,train_label.shape,valid_label.shape)"
      ],
      "metadata": {
        "id": "TSDNcMfzWF5l",
        "colab": {
          "base_uri": "https://localhost:8080/"
        },
        "outputId": "35552ab1-367a-4d45-f7d0-dd3c6488c208"
      },
      "execution_count": null,
      "outputs": [
        {
          "output_type": "stream",
          "name": "stdout",
          "text": [
            "(560, 224, 672, 3) (140, 224, 672, 3) (560, 100) (140, 100)\n"
          ]
        }
      ]
    },
    {
      "cell_type": "code",
      "source": [
        "num_classes=100\n",
        "input_img = Input(shape=(224, 672, 3)) \n",
        "def encoder(input_img):\n",
        "    x = Conv2D(64, (3, 3), activation='relu', padding='same')(input_img)\n",
        "    x = MaxPooling2D((2, 2), padding='same')(x)\n",
        "    x = Conv2D(32, (3, 3), activation='relu', padding='same')(x)\n",
        "    encoded = MaxPooling2D((2, 2), padding='same')(x)\n",
        "\n",
        "    x = Conv2D(32, (3, 3), activation='relu', padding='same')(encoded)\n",
        "    x = UpSampling2D((2, 2))(x)\n",
        "    x = Conv2D(64, (3, 3), activation='relu', padding='same')(x)\n",
        "    x = UpSampling2D((2, 2))(x)\n",
        "    decoded = Conv2D(3, (3, 3), activation='sigmoid', padding='same')(x)\n",
        "    return decoded\n",
        "\n",
        "def fc(enco):\n",
        "    flat = Flatten()(enco)\n",
        "    den = Dense(128, activation='relu')(flat)\n",
        "    den= Dropout(0.2)(den)\n",
        "    den = Dense(80, activation='relu')(den)\n",
        "    den= Dropout(0.2)(den)\n",
        "    out = Dense(num_classes, activation='softmax')(den)\n",
        "    return out\n",
        "\n",
        "encode = encoder(input_img)\n",
        "autoencoderClassifier = Model(input_img,fc(encode))\n"
      ],
      "metadata": {
        "id": "JnYKEY481DM1"
      },
      "execution_count": null,
      "outputs": []
    },
    {
      "cell_type": "code",
      "source": [
        "autoencoderClassifier.compile(loss='categorical_crossentropy', optimizer=keras.optimizers.Adam(),metrics=['accuracy'])\n"
      ],
      "metadata": {
        "id": "mgRBw5M_N-u-"
      },
      "execution_count": null,
      "outputs": []
    },
    {
      "cell_type": "code",
      "source": [
        "classify_train = autoencoderClassifier.fit(train_X, train_label, batch_size=5,epochs=20,verbose=1,validation_data=(valid_X, valid_label))\n"
      ],
      "metadata": {
        "id": "y6pJnGzVZyPB",
        "colab": {
          "base_uri": "https://localhost:8080/"
        },
        "outputId": "a6ea4ba1-e995-4215-e727-71dabaa9cf43"
      },
      "execution_count": null,
      "outputs": [
        {
          "output_type": "stream",
          "name": "stdout",
          "text": [
            "Epoch 1/20\n",
            "112/112 [==============================] - 13s 75ms/step - loss: 18.2453 - accuracy: 0.0018 - val_loss: 4.6075 - val_accuracy: 0.0000e+00\n",
            "Epoch 2/20\n",
            "112/112 [==============================] - 8s 69ms/step - loss: 4.6061 - accuracy: 0.0054 - val_loss: 4.6103 - val_accuracy: 0.0000e+00\n",
            "Epoch 3/20\n",
            "112/112 [==============================] - 8s 69ms/step - loss: 4.6054 - accuracy: 0.0125 - val_loss: 4.6132 - val_accuracy: 0.0000e+00\n",
            "Epoch 4/20\n",
            "112/112 [==============================] - 8s 69ms/step - loss: 4.6048 - accuracy: 0.0107 - val_loss: 4.6158 - val_accuracy: 0.0000e+00\n",
            "Epoch 5/20\n",
            "112/112 [==============================] - 8s 69ms/step - loss: 4.6043 - accuracy: 0.0071 - val_loss: 4.6183 - val_accuracy: 0.0000e+00\n",
            "Epoch 6/20\n",
            "112/112 [==============================] - 8s 69ms/step - loss: 4.6036 - accuracy: 0.0089 - val_loss: 4.6210 - val_accuracy: 0.0000e+00\n",
            "Epoch 7/20\n",
            "112/112 [==============================] - 8s 70ms/step - loss: 4.6033 - accuracy: 0.0107 - val_loss: 4.6237 - val_accuracy: 0.0000e+00\n",
            "Epoch 8/20\n",
            "112/112 [==============================] - 8s 69ms/step - loss: 4.6026 - accuracy: 0.0089 - val_loss: 4.6262 - val_accuracy: 0.0000e+00\n",
            "Epoch 9/20\n",
            "112/112 [==============================] - 8s 69ms/step - loss: 4.6021 - accuracy: 0.0018 - val_loss: 4.6285 - val_accuracy: 0.0000e+00\n",
            "Epoch 10/20\n",
            "112/112 [==============================] - 8s 69ms/step - loss: 4.6017 - accuracy: 0.0071 - val_loss: 4.6311 - val_accuracy: 0.0000e+00\n",
            "Epoch 11/20\n",
            "112/112 [==============================] - 8s 69ms/step - loss: 4.6013 - accuracy: 0.0089 - val_loss: 4.6333 - val_accuracy: 0.0000e+00\n",
            "Epoch 12/20\n",
            "112/112 [==============================] - 8s 69ms/step - loss: 4.6009 - accuracy: 0.0125 - val_loss: 4.6360 - val_accuracy: 0.0000e+00\n",
            "Epoch 13/20\n",
            "112/112 [==============================] - 8s 69ms/step - loss: 4.6005 - accuracy: 0.0071 - val_loss: 4.6381 - val_accuracy: 0.0000e+00\n",
            "Epoch 14/20\n",
            "112/112 [==============================] - 8s 69ms/step - loss: 4.6000 - accuracy: 0.0054 - val_loss: 4.6400 - val_accuracy: 0.0000e+00\n",
            "Epoch 15/20\n",
            "112/112 [==============================] - 8s 69ms/step - loss: 4.5998 - accuracy: 0.0089 - val_loss: 4.6423 - val_accuracy: 0.0000e+00\n",
            "Epoch 16/20\n",
            "112/112 [==============================] - 8s 69ms/step - loss: 4.5993 - accuracy: 0.0054 - val_loss: 4.6446 - val_accuracy: 0.0000e+00\n",
            "Epoch 17/20\n",
            "112/112 [==============================] - 8s 70ms/step - loss: 4.5990 - accuracy: 0.0054 - val_loss: 4.6465 - val_accuracy: 0.0000e+00\n",
            "Epoch 18/20\n",
            "112/112 [==============================] - 8s 70ms/step - loss: 4.5988 - accuracy: 0.0071 - val_loss: 4.6486 - val_accuracy: 0.0000e+00\n",
            "Epoch 19/20\n",
            "112/112 [==============================] - 8s 70ms/step - loss: 4.5984 - accuracy: 0.0071 - val_loss: 4.6506 - val_accuracy: 0.0000e+00\n",
            "Epoch 20/20\n",
            "112/112 [==============================] - 8s 70ms/step - loss: 4.5982 - accuracy: 0.0036 - val_loss: 4.6526 - val_accuracy: 0.0000e+00\n"
          ]
        }
      ]
    },
    {
      "cell_type": "code",
      "source": [
        "print(classify_train.history.keys())\n",
        "# summarize history for accuracy\n",
        "plt.plot(classify_train.history['accuracy'])\n",
        "plt.plot(classify_train.history['val_accuracy'])\n",
        "plt.title('model accuracy')\n",
        "plt.ylabel('accuracy')\n",
        "plt.xlabel('epoch')\n",
        "plt.legend(['train', 'test'], loc='upper left')\n",
        "plt.show()\n",
        "# summarize history for loss\n",
        "plt.plot(classify_train.history['loss'])\n",
        "plt.plot(classify_train.history['val_loss'])\n",
        "plt.title('model loss')\n",
        "plt.ylabel('loss')\n",
        "plt.xlabel('epoch')\n",
        "plt.legend(['train', 'test'], loc='upper left')\n",
        "plt.show()"
      ],
      "metadata": {
        "colab": {
          "base_uri": "https://localhost:8080/",
          "height": 590
        },
        "id": "-JRzgT-BRb_N",
        "outputId": "5c51baf3-5f5f-4107-a6c1-2e5c92e87e4e"
      },
      "execution_count": null,
      "outputs": [
        {
          "output_type": "stream",
          "name": "stdout",
          "text": [
            "dict_keys(['loss', 'accuracy', 'val_loss', 'val_accuracy'])\n"
          ]
        },
        {
          "output_type": "display_data",
          "data": {
            "text/plain": [
              "<Figure size 432x288 with 1 Axes>"
            ],
            "image/png": "[encoded data removed]"
          },
          "metadata": {
            "needs_background": "light"
          }
        },
        {
          "output_type": "display_data",
          "data": {
            "text/plain": [
              "<Figure size 432x288 with 1 Axes>"
            ],
            "image/png": "[encoded data removed]"
          },
          "metadata": {
            "needs_background": "light"
          }
        }
      ]
    },
    {
      "cell_type": "code",
      "source": [
        "test_eval = autoencoderClassifier.evaluate(valid_X, valid_label, verbose=0)\n"
      ],
      "metadata": {
        "id": "WOYd4kW7j1ts"
      },
      "execution_count": null,
      "outputs": []
    },
    {
      "cell_type": "code",
      "source": [
        "print('Test loss:', test_eval[0])\n",
        "print('Test accuracy:', test_eval[1])"
      ],
      "metadata": {
        "id": "l4WAepL1jddl",
        "colab": {
          "base_uri": "https://localhost:8080/"
        },
        "outputId": "d4b1283f-7017-44d5-9e7e-7ffe476f9cb4"
      },
      "execution_count": null,
      "outputs": [
        {
          "output_type": "stream",
          "name": "stdout",
          "text": [
            "Test loss: 4.652554035186768\n",
            "Test accuracy: 0.0\n"
          ]
        }
      ]
    },
    {
      "cell_type": "code",
      "source": [
        "predicted_classes = autoencoderClassifier.predict(X)\n"
      ],
      "metadata": {
        "id": "gIJ9UoOvnLhI",
        "colab": {
          "base_uri": "https://localhost:8080/"
        },
        "outputId": "fd32e582-4865-4797-a556-f1ddd35922f6"
      },
      "execution_count": null,
      "outputs": [
        {
          "output_type": "stream",
          "name": "stdout",
          "text": [
            "22/22 [==============================] - 4s 168ms/step\n"
          ]
        }
      ]
    },
    {
      "cell_type": "code",
      "source": [
        "predicted_classes = np.argmax(np.round(predicted_classes),axis=1)\n"
      ],
      "metadata": {
        "id": "xARTkBPDnTa0"
      },
      "execution_count": null,
      "outputs": []
    },
    {
      "cell_type": "code",
      "source": [
        "predicted_classes"
      ],
      "metadata": {
        "id": "_-G9o-4AgenH",
        "colab": {
          "base_uri": "https://localhost:8080/"
        },
        "outputId": "c913ff50-6ad7-4443-ede8-76022ad34f74"
      },
      "execution_count": null,
      "outputs": [
        {
          "output_type": "execute_result",
          "data": {
            "text/plain": [
              "array([0, 0, 0, 0, 0, 0, 0, 0, 0, 0, 0, 0, 0, 0, 0, 0, 0, 0, 0, 0, 0, 0,\n",
              "       0, 0, 0, 0, 0, 0, 0, 0, 0, 0, 0, 0, 0, 0, 0, 0, 0, 0, 0, 0, 0, 0,\n",
              "       0, 0, 0, 0, 0, 0, 0, 0, 0, 0, 0, 0, 0, 0, 0, 0, 0, 0, 0, 0, 0, 0,\n",
              "       0, 0, 0, 0, 0, 0, 0, 0, 0, 0, 0, 0, 0, 0, 0, 0, 0, 0, 0, 0, 0, 0,\n",
              "       0, 0, 0, 0, 0, 0, 0, 0, 0, 0, 0, 0, 0, 0, 0, 0, 0, 0, 0, 0, 0, 0,\n",
              "       0, 0, 0, 0, 0, 0, 0, 0, 0, 0, 0, 0, 0, 0, 0, 0, 0, 0, 0, 0, 0, 0,\n",
              "       0, 0, 0, 0, 0, 0, 0, 0, 0, 0, 0, 0, 0, 0, 0, 0, 0, 0, 0, 0, 0, 0,\n",
              "       0, 0, 0, 0, 0, 0, 0, 0, 0, 0, 0, 0, 0, 0, 0, 0, 0, 0, 0, 0, 0, 0,\n",
              "       0, 0, 0, 0, 0, 0, 0, 0, 0, 0, 0, 0, 0, 0, 0, 0, 0, 0, 0, 0, 0, 0,\n",
              "       0, 0, 0, 0, 0, 0, 0, 0, 0, 0, 0, 0, 0, 0, 0, 0, 0, 0, 0, 0, 0, 0,\n",
              "       0, 0, 0, 0, 0, 0, 0, 0, 0, 0, 0, 0, 0, 0, 0, 0, 0, 0, 0, 0, 0, 0,\n",
              "       0, 0, 0, 0, 0, 0, 0, 0, 0, 0, 0, 0, 0, 0, 0, 0, 0, 0, 0, 0, 0, 0,\n",
              "       0, 0, 0, 0, 0, 0, 0, 0, 0, 0, 0, 0, 0, 0, 0, 0, 0, 0, 0, 0, 0, 0,\n",
              "       0, 0, 0, 0, 0, 0, 0, 0, 0, 0, 0, 0, 0, 0, 0, 0, 0, 0, 0, 0, 0, 0,\n",
              "       0, 0, 0, 0, 0, 0, 0, 0, 0, 0, 0, 0, 0, 0, 0, 0, 0, 0, 0, 0, 0, 0,\n",
              "       0, 0, 0, 0, 0, 0, 0, 0, 0, 0, 0, 0, 0, 0, 0, 0, 0, 0, 0, 0, 0, 0,\n",
              "       0, 0, 0, 0, 0, 0, 0, 0, 0, 0, 0, 0, 0, 0, 0, 0, 0, 0, 0, 0, 0, 0,\n",
              "       0, 0, 0, 0, 0, 0, 0, 0, 0, 0, 0, 0, 0, 0, 0, 0, 0, 0, 0, 0, 0, 0,\n",
              "       0, 0, 0, 0, 0, 0, 0, 0, 0, 0, 0, 0, 0, 0, 0, 0, 0, 0, 0, 0, 0, 0,\n",
              "       0, 0, 0, 0, 0, 0, 0, 0, 0, 0, 0, 0, 0, 0, 0, 0, 0, 0, 0, 0, 0, 0,\n",
              "       0, 0, 0, 0, 0, 0, 0, 0, 0, 0, 0, 0, 0, 0, 0, 0, 0, 0, 0, 0, 0, 0,\n",
              "       0, 0, 0, 0, 0, 0, 0, 0, 0, 0, 0, 0, 0, 0, 0, 0, 0, 0, 0, 0, 0, 0,\n",
              "       0, 0, 0, 0, 0, 0, 0, 0, 0, 0, 0, 0, 0, 0, 0, 0, 0, 0, 0, 0, 0, 0,\n",
              "       0, 0, 0, 0, 0, 0, 0, 0, 0, 0, 0, 0, 0, 0, 0, 0, 0, 0, 0, 0, 0, 0,\n",
              "       0, 0, 0, 0, 0, 0, 0, 0, 0, 0, 0, 0, 0, 0, 0, 0, 0, 0, 0, 0, 0, 0,\n",
              "       0, 0, 0, 0, 0, 0, 0, 0, 0, 0, 0, 0, 0, 0, 0, 0, 0, 0, 0, 0, 0, 0,\n",
              "       0, 0, 0, 0, 0, 0, 0, 0, 0, 0, 0, 0, 0, 0, 0, 0, 0, 0, 0, 0, 0, 0,\n",
              "       0, 0, 0, 0, 0, 0, 0, 0, 0, 0, 0, 0, 0, 0, 0, 0, 0, 0, 0, 0, 0, 0,\n",
              "       0, 0, 0, 0, 0, 0, 0, 0, 0, 0, 0, 0, 0, 0, 0, 0, 0, 0, 0, 0, 0, 0,\n",
              "       0, 0, 0, 0, 0, 0, 0, 0, 0, 0, 0, 0, 0, 0, 0, 0, 0, 0, 0, 0, 0, 0,\n",
              "       0, 0, 0, 0, 0, 0, 0, 0, 0, 0, 0, 0, 0, 0, 0, 0, 0, 0, 0, 0, 0, 0,\n",
              "       0, 0, 0, 0, 0, 0, 0, 0, 0, 0, 0, 0, 0, 0, 0, 0, 0, 0])"
            ]
          },
          "metadata": {},
          "execution_count": 29
        }
      ]
    },
    {
      "cell_type": "code",
      "source": [
        "predicted_classes.shape, Yvalues.shape\n"
      ],
      "metadata": {
        "id": "_0yWGtZInXm-",
        "colab": {
          "base_uri": "https://localhost:8080/"
        },
        "outputId": "b3bbc306-b66a-4731-f46e-fdabe93baa98"
      },
      "execution_count": null,
      "outputs": [
        {
          "output_type": "execute_result",
          "data": {
            "text/plain": [
              "((700,), (700,))"
            ]
          },
          "metadata": {},
          "execution_count": 30
        }
      ]
    },
    {
      "cell_type": "code",
      "source": [
        "incorrect = np.where(predicted_classes!=Yvalues)[0]\n",
        "print (\"Found %d incorrect labels\" % len(incorrect))\n",
        "for i, incorrect in enumerate(incorrect[:9]):\n",
        "    plt.subplot(3,3,i+1)\n",
        "    plt.imshow(X[incorrect].reshape(224,672,3), interpolation='none')\n",
        "    plt.title(\"Predicted {}, Class {}\".format(predicted_classes[incorrect], Yvalues[incorrect]))\n",
        "    plt.tight_layout()"
      ],
      "metadata": {
        "id": "UXKufg3soFs6",
        "colab": {
          "base_uri": "https://localhost:8080/",
          "height": 286
        },
        "outputId": "688e87a1-777f-4347-d839-2e3b93ef2abf"
      },
      "execution_count": null,
      "outputs": [
        {
          "output_type": "stream",
          "name": "stdout",
          "text": [
            "Found 693 incorrect labels\n"
          ]
        },
        {
          "output_type": "display_data",
          "data": {
            "text/plain": [
              "<Figure size 432x288 with 7 Axes>"
            ],
            "image/png": "[encoded data removed]"
          },
          "metadata": {
            "needs_background": "light"
          }
        }
      ]
    },
    {
      "cell_type": "code",
      "source": [
        "from sklearn.metrics import classification_report\n",
        "target_names = [\"Class {}\".format(i) for i in range(num_classes)]\n",
        "print(classification_report(Yvalues, predicted_classes, target_names=target_names))"
      ],
      "metadata": {
        "id": "bzWndrcphUBA",
        "colab": {
          "base_uri": "https://localhost:8080/"
        },
        "outputId": "07b0df30-d351-4b6d-d5e2-df806633e8f0"
      },
      "execution_count": null,
      "outputs": [
        {
          "output_type": "stream",
          "name": "stdout",
          "text": [
            "              precision    recall  f1-score   support\n",
            "\n",
            "     Class 0       0.01      1.00      0.02         7\n",
            "     Class 1       0.00      0.00      0.00         7\n",
            "     Class 2       0.00      0.00      0.00         7\n",
            "     Class 3       0.00      0.00      0.00         7\n",
            "     Class 4       0.00      0.00      0.00         7\n",
            "     Class 5       0.00      0.00      0.00         7\n",
            "     Class 6       0.00      0.00      0.00         7\n",
            "     Class 7       0.00      0.00      0.00         7\n",
            "     Class 8       0.00      0.00      0.00         7\n",
            "     Class 9       0.00      0.00      0.00         7\n",
            "    Class 10       0.00      0.00      0.00         7\n",
            "    Class 11       0.00      0.00      0.00         7\n",
            "    Class 12       0.00      0.00      0.00         7\n",
            "    Class 13       0.00      0.00      0.00         7\n",
            "    Class 14       0.00      0.00      0.00         7\n",
            "    Class 15       0.00      0.00      0.00         7\n",
            "    Class 16       0.00      0.00      0.00         7\n",
            "    Class 17       0.00      0.00      0.00         7\n",
            "    Class 18       0.00      0.00      0.00         7\n",
            "    Class 19       0.00      0.00      0.00         7\n",
            "    Class 20       0.00      0.00      0.00         7\n",
            "    Class 21       0.00      0.00      0.00         7\n",
            "    Class 22       0.00      0.00      0.00         7\n",
            "    Class 23       0.00      0.00      0.00         7\n",
            "    Class 24       0.00      0.00      0.00         7\n",
            "    Class 25       0.00      0.00      0.00         7\n",
            "    Class 26       0.00      0.00      0.00         7\n",
            "    Class 27       0.00      0.00      0.00         7\n",
            "    Class 28       0.00      0.00      0.00         7\n",
            "    Class 29       0.00      0.00      0.00         7\n",
            "    Class 30       0.00      0.00      0.00         7\n",
            "    Class 31       0.00      0.00      0.00         7\n",
            "    Class 32       0.00      0.00      0.00         7\n",
            "    Class 33       0.00      0.00      0.00         7\n",
            "    Class 34       0.00      0.00      0.00         7\n",
            "    Class 35       0.00      0.00      0.00         7\n",
            "    Class 36       0.00      0.00      0.00         7\n",
            "    Class 37       0.00      0.00      0.00         7\n",
            "    Class 38       0.00      0.00      0.00         7\n",
            "    Class 39       0.00      0.00      0.00         7\n",
            "    Class 40       0.00      0.00      0.00         7\n",
            "    Class 41       0.00      0.00      0.00         7\n",
            "    Class 42       0.00      0.00      0.00         7\n",
            "    Class 43       0.00      0.00      0.00         7\n",
            "    Class 44       0.00      0.00      0.00         7\n",
            "    Class 45       0.00      0.00      0.00         7\n",
            "    Class 46       0.00      0.00      0.00         7\n",
            "    Class 47       0.00      0.00      0.00         7\n",
            "    Class 48       0.00      0.00      0.00         7\n",
            "    Class 49       0.00      0.00      0.00         7\n",
            "    Class 50       0.00      0.00      0.00         7\n",
            "    Class 51       0.00      0.00      0.00         7\n",
            "    Class 52       0.00      0.00      0.00         7\n",
            "    Class 53       0.00      0.00      0.00         7\n",
            "    Class 54       0.00      0.00      0.00         7\n",
            "    Class 55       0.00      0.00      0.00         7\n",
            "    Class 56       0.00      0.00      0.00         7\n",
            "    Class 57       0.00      0.00      0.00         7\n",
            "    Class 58       0.00      0.00      0.00         7\n",
            "    Class 59       0.00      0.00      0.00         7\n",
            "    Class 60       0.00      0.00      0.00         7\n",
            "    Class 61       0.00      0.00      0.00         7\n",
            "    Class 62       0.00      0.00      0.00         7\n",
            "    Class 63       0.00      0.00      0.00         7\n",
            "    Class 64       0.00      0.00      0.00         7\n",
            "    Class 65       0.00      0.00      0.00         7\n",
            "    Class 66       0.00      0.00      0.00         7\n",
            "    Class 67       0.00      0.00      0.00         7\n",
            "    Class 68       0.00      0.00      0.00         7\n",
            "    Class 69       0.00      0.00      0.00         7\n",
            "    Class 70       0.00      0.00      0.00         7\n",
            "    Class 71       0.00      0.00      0.00         7\n",
            "    Class 72       0.00      0.00      0.00         7\n",
            "    Class 73       0.00      0.00      0.00         7\n",
            "    Class 74       0.00      0.00      0.00         7\n",
            "    Class 75       0.00      0.00      0.00         7\n",
            "    Class 76       0.00      0.00      0.00         7\n",
            "    Class 77       0.00      0.00      0.00         7\n",
            "    Class 78       0.00      0.00      0.00         7\n",
            "    Class 79       0.00      0.00      0.00         7\n",
            "    Class 80       0.00      0.00      0.00         7\n",
            "    Class 81       0.00      0.00      0.00         7\n",
            "    Class 82       0.00      0.00      0.00         7\n",
            "    Class 83       0.00      0.00      0.00         7\n",
            "    Class 84       0.00      0.00      0.00         7\n",
            "    Class 85       0.00      0.00      0.00         7\n",
            "    Class 86       0.00      0.00      0.00         7\n",
            "    Class 87       0.00      0.00      0.00         7\n",
            "    Class 88       0.00      0.00      0.00         7\n",
            "    Class 89       0.00      0.00      0.00         7\n",
            "    Class 90       0.00      0.00      0.00         7\n",
            "    Class 91       0.00      0.00      0.00         7\n",
            "    Class 92       0.00      0.00      0.00         7\n",
            "    Class 93       0.00      0.00      0.00         7\n",
            "    Class 94       0.00      0.00      0.00         7\n",
            "    Class 95       0.00      0.00      0.00         7\n",
            "    Class 96       0.00      0.00      0.00         7\n",
            "    Class 97       0.00      0.00      0.00         7\n",
            "    Class 98       0.00      0.00      0.00         7\n",
            "    Class 99       0.00      0.00      0.00         7\n",
            "\n",
            "    accuracy                           0.01       700\n",
            "   macro avg       0.00      0.01      0.00       700\n",
            "weighted avg       0.00      0.01      0.00       700\n",
            "\n"
          ]
        },
        {
          "output_type": "stream",
          "name": "stderr",
          "text": [
            "/usr/local/lib/python3.8/dist-packages/sklearn/metrics/_classification.py:1318: UndefinedMetricWarning: Precision and F-score are ill-defined and being set to 0.0 in labels with no predicted samples. Use `zero_division` parameter to control this behavior.\n",
            "  _warn_prf(average, modifier, msg_start, len(result))\n",
            "/usr/local/lib/python3.8/dist-packages/sklearn/metrics/_classification.py:1318: UndefinedMetricWarning: Precision and F-score are ill-defined and being set to 0.0 in labels with no predicted samples. Use `zero_division` parameter to control this behavior.\n",
            "  _warn_prf(average, modifier, msg_start, len(result))\n",
            "/usr/local/lib/python3.8/dist-packages/sklearn/metrics/_classification.py:1318: UndefinedMetricWarning: Precision and F-score are ill-defined and being set to 0.0 in labels with no predicted samples. Use `zero_division` parameter to control this behavior.\n",
            "  _warn_prf(average, modifier, msg_start, len(result))\n"
          ]
        }
      ]
    },
    {
      "cell_type": "code",
      "source": [
        "autoencoderClassifier.save('5.Full-autoencoder-CNN.h5')"
      ],
      "metadata": {
        "id": "l3TfoPX-RC3c"
      },
      "execution_count": null,
      "outputs": []
    }
  ]
}