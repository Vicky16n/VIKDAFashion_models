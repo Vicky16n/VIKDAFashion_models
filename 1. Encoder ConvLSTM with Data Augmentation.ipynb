{
  "nbformat": 4,
  "nbformat_minor": 0,
  "metadata": {
    "colab": {
      "provenance": [],
      "machine_shape": "hm"
    },
    "kernelspec": {
      "name": "python3",
      "display_name": "Python 3"
    },
    "language_info": {
      "name": "python"
    },
    "accelerator": "GPU",
    "gpuClass": "premium"
  },
  "cells": [
    {
      "cell_type": "code",
      "source": [
        "from google.colab import drive\n",
        "drive.mount('/content/drive')"
      ],
      "metadata": {
        "colab": {
          "base_uri": "https://localhost:8080/"
        },
        "id": "1N5PGp05fdAD",
        "outputId": "8a68cdff-8618-4fca-9a53-3b41e62eb86c"
      },
      "execution_count": null,
      "outputs": [
        {
          "output_type": "stream",
          "name": "stdout",
          "text": [
            "Mounted at /content/drive\n"
          ]
        }
      ]
    },
    {
      "cell_type": "code",
      "source": [
        "from array import array\n",
        "import numpy as np\n",
        "from pandas import read_csv\n",
        "from sklearn.model_selection import train_test_split \n",
        "import tensorflow as tf\n",
        "from matplotlib import pyplot as plt\n",
        "import keras\n",
        "from keras import layers\n",
        "from keras.layers import Input, Dense, ConvLSTM2D,Conv2D, Conv2DTranspose,Dropout,Flatten,TimeDistributed,LayerNormalization\n",
        "from keras.models import Model\n",
        "import keras\n",
        "from keras import layers\n",
        "from keras.models import Sequential, load_model\n",
        "from keras.callbacks import EarlyStopping\n",
        "from keras import backend as K\n",
        "from keras.utils import to_categorical\n",
        "from PIL import Image\n"
      ],
      "metadata": {
        "id": "NH-f5NGTuD6c"
      },
      "execution_count": null,
      "outputs": []
    },
    {
      "cell_type": "code",
      "source": [
        "Datos3K=read_csv('/content/drive/MyDrive/Colab Notebooks/Segmentation/3KAutoEncoder.csv',delimiter=',', index_col=False)\n",
        "#Datos3K = array(Datos3K)\n",
        "\n"
      ],
      "metadata": {
        "id": "JbRaVfcGRWuo"
      },
      "execution_count": null,
      "outputs": []
    },
    {
      "cell_type": "code",
      "source": [
        "Datos3K = Datos3K.to_numpy()\n",
        "Datos3K.shape\n"
      ],
      "metadata": {
        "id": "_XQE8HOu2apC",
        "colab": {
          "base_uri": "https://localhost:8080/"
        },
        "outputId": "09fc57a5-229c-4f63-e76e-67752b32bb23"
      },
      "execution_count": null,
      "outputs": [
        {
          "output_type": "execute_result",
          "data": {
            "text/plain": [
              "(451584, 100)"
            ]
          },
          "metadata": {},
          "execution_count": 4
        }
      ]
    },
    {
      "cell_type": "code",
      "source": [
        "Datos3K=Datos3K[:,:100]\n",
        "Datos3K.shape"
      ],
      "metadata": {
        "colab": {
          "base_uri": "https://localhost:8080/"
        },
        "id": "D3g_dy4aMeOb",
        "outputId": "fef223a1-5561-4265-d58c-ae1d1b76ff8a"
      },
      "execution_count": null,
      "outputs": [
        {
          "output_type": "execute_result",
          "data": {
            "text/plain": [
              "(451584, 100)"
            ]
          },
          "metadata": {},
          "execution_count": 5
        }
      ]
    },
    {
      "cell_type": "code",
      "execution_count": null,
      "metadata": {
        "colab": {
          "base_uri": "https://localhost:8080/"
        },
        "id": "u5mu0n2jRXBz",
        "outputId": "130b04a0-202f-4f6e-8457-4d65a16661ae"
      },
      "outputs": [
        {
          "output_type": "stream",
          "name": "stdout",
          "text": [
            "(150528, 100) (150528, 100) (150528, 100)\n"
          ]
        }
      ],
      "source": [
        "parte1=(Datos3K[0:150528,:])\n",
        "parte2=(Datos3K[150528:301056,:])\n",
        "parte3=(Datos3K[301056:,:])\n",
        "print(parte1.shape,parte2.shape,parte3.shape)"
      ]
    },
    {
      "cell_type": "code",
      "source": [
        "ceros=np.zeros((224,224,3,100))\n",
        "ceros=ceros.reshape(150528,100)\n",
        "ceros = np.asarray(ceros, dtype = 'int')\n",
        "ceros.shape"
      ],
      "metadata": {
        "colab": {
          "base_uri": "https://localhost:8080/"
        },
        "id": "LmXhksqNgMt7",
        "outputId": "428fa018-edd7-4aed-839a-f19300901320"
      },
      "execution_count": null,
      "outputs": [
        {
          "output_type": "execute_result",
          "data": {
            "text/plain": [
              "(150528, 100)"
            ]
          },
          "metadata": {},
          "execution_count": 7
        }
      ]
    },
    {
      "cell_type": "code",
      "execution_count": null,
      "metadata": {
        "id": "TYRonSScRXBz"
      },
      "outputs": [],
      "source": [
        "Data1=list()\n",
        "Data1 = np.concatenate([parte1, parte2,parte3])\n",
        "Data2 = np.concatenate([parte1, parte3,parte2])\n",
        "Data3 = np.concatenate([parte3, parte2,parte1])\n",
        "Data4 = np.concatenate([parte2, parte3,parte1])\n",
        "\n",
        "Data5 = np.concatenate([parte1, ceros,ceros])\n",
        "Data6 = np.concatenate([parte2, ceros,ceros])\n",
        "Data7 = np.concatenate([parte3, ceros,ceros])\n"
      ]
    },
    {
      "cell_type": "code",
      "source": [
        "Data5.shape"
      ],
      "metadata": {
        "colab": {
          "base_uri": "https://localhost:8080/"
        },
        "id": "tqrXn2NF2SR4",
        "outputId": "cf30107d-c2c7-4813-d490-a9d28e855eab"
      },
      "execution_count": null,
      "outputs": [
        {
          "output_type": "execute_result",
          "data": {
            "text/plain": [
              "(451584, 100)"
            ]
          },
          "metadata": {},
          "execution_count": 9
        }
      ]
    },
    {
      "cell_type": "code",
      "source": [
        "Show=Data5[:,1]\n",
        "Show=Show.transpose()\n",
        "Show=Show.reshape(224,672,3)\n",
        "Show.shape"
      ],
      "metadata": {
        "colab": {
          "base_uri": "https://localhost:8080/"
        },
        "id": "fULx4ORu8orR",
        "outputId": "ef93818a-4911-4a76-9656-6322a2b483f0"
      },
      "execution_count": null,
      "outputs": [
        {
          "output_type": "execute_result",
          "data": {
            "text/plain": [
              "(224, 672, 3)"
            ]
          },
          "metadata": {},
          "execution_count": 10
        }
      ]
    },
    {
      "cell_type": "code",
      "source": [
        "plt.imshow(Show)"
      ],
      "metadata": {
        "colab": {
          "base_uri": "https://localhost:8080/"
        },
        "id": "RqGE3Jbz1J-B",
        "outputId": "41b7638a-f60d-40dc-adc9-dcc97b64948f"
      },
      "execution_count": null,
      "outputs": [
        {
          "output_type": "execute_result",
          "data": {
            "text/plain": [
              "<matplotlib.image.AxesImage at 0x7f32005f9190>"
            ]
          },
          "metadata": {},
          "execution_count": 11
        },
        {
          "output_type": "display_data",
          "data": {
            "text/plain": [
              "<Figure size 432x288 with 1 Axes>"
            ],
            "image/png": "[encoded data removed]"
          },
          "metadata": {
            "needs_background": "light"
          }
        }
      ]
    },
    {
      "cell_type": "code",
      "execution_count": null,
      "metadata": {
        "id": "21VFqUKaRXBz"
      },
      "outputs": [],
      "source": [
        "Data1=Data1.transpose()\n",
        "Data2=Data2.transpose()\n",
        "Data3=Data3.transpose()\n",
        "Data4=Data4.transpose()\n",
        "Data5=Data5.transpose()\n",
        "Data6=Data6.transpose()\n",
        "Data7=Data7.transpose()\n",
        "Datos3K=np.concatenate([Data1, Data2,Data3,Data4,Data5,Data6,Data7])"
      ]
    },
    {
      "cell_type": "code",
      "source": [
        "Datos3K"
      ],
      "metadata": {
        "colab": {
          "base_uri": "https://localhost:8080/"
        },
        "id": "utQPZm0yLgoE",
        "outputId": "67df9275-1685-412a-b633-e2b27fede333"
      },
      "execution_count": null,
      "outputs": [
        {
          "output_type": "execute_result",
          "data": {
            "text/plain": [
              "array([[230, 179,  98, ..., 196, 143,  67],\n",
              "       [  5,   0,   4, ...,   0,   1,   2],\n",
              "       [  0,   0,   0, ...,   1,   0,   0],\n",
              "       ...,\n",
              "       [  0,   0,   0, ...,   0,   0,   0],\n",
              "       [  1,   1,   1, ...,   0,   0,   0],\n",
              "       [  0,   0,   0, ...,   0,   0,   0]])"
            ]
          },
          "metadata": {},
          "execution_count": 13
        }
      ]
    },
    {
      "cell_type": "code",
      "execution_count": null,
      "metadata": {
        "colab": {
          "base_uri": "https://localhost:8080/"
        },
        "id": "6uIqR16HRXBz",
        "outputId": "42dfe1c0-e186-4e5b-af32-81d2778731ad"
      },
      "outputs": [
        {
          "output_type": "stream",
          "name": "stdout",
          "text": [
            "(700, 451584)\n"
          ]
        }
      ],
      "source": [
        "print(Datos3K.shape)"
      ]
    },
    {
      "cell_type": "code",
      "source": [
        "X =np.reshape(Datos3K,(Datos3K.shape[0],1,224,672,3))\n",
        "X = X.astype('float32') / 255.\n",
        "X.shape"
      ],
      "metadata": {
        "colab": {
          "base_uri": "https://localhost:8080/"
        },
        "outputId": "07728108-e6ad-4da5-b272-bb91f056540f",
        "id": "lnohdg8vcNO4"
      },
      "execution_count": null,
      "outputs": [
        {
          "output_type": "execute_result",
          "data": {
            "text/plain": [
              "(700, 1, 224, 672, 3)"
            ]
          },
          "metadata": {},
          "execution_count": 15
        }
      ]
    },
    {
      "cell_type": "code",
      "source": [
        "print(X.shape)"
      ],
      "metadata": {
        "id": "obDlqbU4444a",
        "colab": {
          "base_uri": "https://localhost:8080/"
        },
        "outputId": "982dd337-19a5-4210-e42b-2db3ff814233"
      },
      "execution_count": null,
      "outputs": [
        {
          "output_type": "stream",
          "name": "stdout",
          "text": [
            "(700, 1, 224, 672, 3)\n"
          ]
        }
      ]
    },
    {
      "cell_type": "code",
      "source": [
        "Yvalues = []\n",
        "for i in range(100): \n",
        "  Yvalues.append(i)\n",
        "Yvalues= np.array(Yvalues)\n",
        "Yvalues = np.concatenate([Yvalues, Yvalues,Yvalues,Yvalues,Yvalues,Yvalues,Yvalues])"
      ],
      "metadata": {
        "id": "IscC18OYRiWg"
      },
      "execution_count": null,
      "outputs": []
    },
    {
      "cell_type": "code",
      "source": [
        "#Yvalues=Yvalues.reshape(50,1)\n",
        "Yvalues.shape"
      ],
      "metadata": {
        "id": "A0SMjd6oSb5w",
        "colab": {
          "base_uri": "https://localhost:8080/"
        },
        "outputId": "cab44835-28ce-452c-da00-cd9fab02cda0"
      },
      "execution_count": null,
      "outputs": [
        {
          "output_type": "execute_result",
          "data": {
            "text/plain": [
              "(700,)"
            ]
          },
          "metadata": {},
          "execution_count": 18
        }
      ]
    },
    {
      "cell_type": "code",
      "source": [
        "# Change the labels from categorical to one-hot encoding\n",
        "train_Y_one_hot = to_categorical(Yvalues)\n",
        "\n",
        "# Display the change for category label using one-hot encoding\n",
        "print('Original label:', Yvalues[0])\n",
        "print('After conversion to one-hot:', train_Y_one_hot[0])"
      ],
      "metadata": {
        "id": "nwVpaosnsQ0Z",
        "colab": {
          "base_uri": "https://localhost:8080/"
        },
        "outputId": "6cab96a3-a886-410e-80d3-21af45e6790e"
      },
      "execution_count": null,
      "outputs": [
        {
          "output_type": "stream",
          "name": "stdout",
          "text": [
            "Original label: 0\n",
            "After conversion to one-hot: [1. 0. 0. 0. 0. 0. 0. 0. 0. 0. 0. 0. 0. 0. 0. 0. 0. 0. 0. 0. 0. 0. 0. 0.\n",
            " 0. 0. 0. 0. 0. 0. 0. 0. 0. 0. 0. 0. 0. 0. 0. 0. 0. 0. 0. 0. 0. 0. 0. 0.\n",
            " 0. 0. 0. 0. 0. 0. 0. 0. 0. 0. 0. 0. 0. 0. 0. 0. 0. 0. 0. 0. 0. 0. 0. 0.\n",
            " 0. 0. 0. 0. 0. 0. 0. 0. 0. 0. 0. 0. 0. 0. 0. 0. 0. 0. 0. 0. 0. 0. 0. 0.\n",
            " 0. 0. 0. 0.]\n"
          ]
        }
      ]
    },
    {
      "cell_type": "code",
      "source": [
        "train_X,valid_X,train_label,valid_label = train_test_split(X,train_Y_one_hot,test_size=0.2)\n"
      ],
      "metadata": {
        "id": "DkL3DR1aVUDj"
      },
      "execution_count": null,
      "outputs": []
    },
    {
      "cell_type": "code",
      "source": [
        "print(train_X.shape,valid_X.shape,train_label.shape,valid_label.shape)"
      ],
      "metadata": {
        "id": "TSDNcMfzWF5l",
        "colab": {
          "base_uri": "https://localhost:8080/"
        },
        "outputId": "829bace8-bde2-4eb5-96de-43a9273ecc04"
      },
      "execution_count": null,
      "outputs": [
        {
          "output_type": "stream",
          "name": "stdout",
          "text": [
            "(560, 1, 224, 672, 3) (140, 1, 224, 672, 3) (560, 100) (140, 100)\n"
          ]
        }
      ]
    },
    {
      "cell_type": "code",
      "source": [
        "num_classes=100\n",
        "input_img = Input(shape=(1,224, 672, 3)) \n",
        "def encoder(input_img):\n",
        "    #encoder\n",
        "    #input = 224 x 672 x 3 (wide and thin) \n",
        "    x=TimeDistributed(Conv2D(128, (11, 11), strides=4, padding=\"same\"), batch_input_shape=(None, 1, 224, 672, 3))(input_img)\n",
        "    x=LayerNormalization()(x)\n",
        "    x=TimeDistributed(Conv2D(64, (5, 5), strides=2, padding=\"same\"))(x)\n",
        "    x=LayerNormalization()(x)\n",
        "    # # # # #\n",
        "    x=ConvLSTM2D(64, (3, 3), padding=\"same\", return_sequences=True)(x)\n",
        "    x=LayerNormalization()(x)\n",
        "    encoded= ConvLSTM2D(32, (3, 3), padding=\"same\", return_sequences=True)(x)\n",
        "    \n",
        "    return encoded\n",
        "\n",
        "def fc(enco):\n",
        "    flat = Flatten()(enco)\n",
        "    den = Dense(128, activation='relu')(flat)\n",
        "    den= Dropout(0.2)(den)\n",
        "    den = Dense(80, activation='relu')(den)\n",
        "    den= Dropout(0.2)(den)\n",
        "    out = Dense(num_classes, activation='softmax')(den)\n",
        "    return out\n",
        "\n",
        "encode = encoder(input_img)\n",
        "autoencoderClassifier = Model(input_img,fc(encode))"
      ],
      "metadata": {
        "id": "7nexN8uPcRjV"
      },
      "execution_count": null,
      "outputs": []
    },
    {
      "cell_type": "code",
      "source": [
        "for l1,l2 in zip(autoencoderClassifier.layers[:7],autoencoderClassifier.layers[0:7]):\n",
        "    l1.set_weights(l2.get_weights())"
      ],
      "metadata": {
        "id": "ztd_biRNYHlX"
      },
      "execution_count": null,
      "outputs": []
    },
    {
      "cell_type": "code",
      "source": [
        "autoencoderClassifier.get_weights()[0][1];"
      ],
      "metadata": {
        "id": "2OcKHH8_YxM0"
      },
      "execution_count": null,
      "outputs": []
    },
    {
      "cell_type": "code",
      "source": [
        "for layer in autoencoderClassifier.layers[0:7]:\n",
        "    layer.trainable = False"
      ],
      "metadata": {
        "id": "EssmflRaY5BP"
      },
      "execution_count": null,
      "outputs": []
    },
    {
      "cell_type": "code",
      "source": [
        "autoencoderClassifier.compile(loss='categorical_crossentropy', optimizer=keras.optimizers.Adam(),metrics=['accuracy'])\n"
      ],
      "metadata": {
        "id": "bTFL-_04Y8Tw"
      },
      "execution_count": null,
      "outputs": []
    },
    {
      "cell_type": "code",
      "source": [
        "autoencoderClassifier.summary()\n"
      ],
      "metadata": {
        "id": "Bfe7We9yZCWI",
        "colab": {
          "base_uri": "https://localhost:8080/"
        },
        "outputId": "7fee3a49-cc0b-4ba3-e998-ef9c9e40587f"
      },
      "execution_count": null,
      "outputs": [
        {
          "output_type": "stream",
          "name": "stdout",
          "text": [
            "Model: \"model\"\n",
            "_________________________________________________________________\n",
            " Layer (type)                Output Shape              Param #   \n",
            "=================================================================\n",
            " input_1 (InputLayer)        [(None, 1, 224, 672, 3)]  0         \n",
            "                                                                 \n",
            " time_distributed (TimeDistr  (None, 1, 56, 168, 128)  46592     \n",
            " ibuted)                                                         \n",
            "                                                                 \n",
            " layer_normalization (LayerN  (None, 1, 56, 168, 128)  256       \n",
            " ormalization)                                                   \n",
            "                                                                 \n",
            " time_distributed_1 (TimeDis  (None, 1, 28, 84, 64)    204864    \n",
            " tributed)                                                       \n",
            "                                                                 \n",
            " layer_normalization_1 (Laye  (None, 1, 28, 84, 64)    128       \n",
            " rNormalization)                                                 \n",
            "                                                                 \n",
            " conv_lstm2d (ConvLSTM2D)    (None, 1, 28, 84, 64)     295168    \n",
            "                                                                 \n",
            " layer_normalization_2 (Laye  (None, 1, 28, 84, 64)    128       \n",
            " rNormalization)                                                 \n",
            "                                                                 \n",
            " conv_lstm2d_1 (ConvLSTM2D)  (None, 1, 28, 84, 32)     110720    \n",
            "                                                                 \n",
            " flatten (Flatten)           (None, 75264)             0         \n",
            "                                                                 \n",
            " dense (Dense)               (None, 128)               9633920   \n",
            "                                                                 \n",
            " dropout (Dropout)           (None, 128)               0         \n",
            "                                                                 \n",
            " dense_1 (Dense)             (None, 80)                10320     \n",
            "                                                                 \n",
            " dropout_1 (Dropout)         (None, 80)                0         \n",
            "                                                                 \n",
            " dense_2 (Dense)             (None, 100)               8100      \n",
            "                                                                 \n",
            "=================================================================\n",
            "Total params: 10,310,196\n",
            "Trainable params: 9,763,060\n",
            "Non-trainable params: 547,136\n",
            "_________________________________________________________________\n"
          ]
        }
      ]
    },
    {
      "cell_type": "code",
      "source": [
        "classify_train = autoencoderClassifier.fit(train_X, train_label, batch_size=5,epochs=20,verbose=1,validation_data=(valid_X, valid_label))\n"
      ],
      "metadata": {
        "id": "y6pJnGzVZyPB",
        "colab": {
          "base_uri": "https://localhost:8080/"
        },
        "outputId": "cde5d28e-9706-460d-b844-40f4204c24fa"
      },
      "execution_count": null,
      "outputs": [
        {
          "output_type": "stream",
          "name": "stdout",
          "text": [
            "Epoch 1/20\n",
            "112/112 [==============================] - 14s 32ms/step - loss: 4.5831 - accuracy: 0.0304 - val_loss: 4.2250 - val_accuracy: 0.1429\n",
            "Epoch 2/20\n",
            "112/112 [==============================] - 3s 23ms/step - loss: 2.8048 - accuracy: 0.3732 - val_loss: 2.7481 - val_accuracy: 0.4286\n",
            "Epoch 3/20\n",
            "112/112 [==============================] - 3s 24ms/step - loss: 1.1742 - accuracy: 0.7089 - val_loss: 2.0857 - val_accuracy: 0.6071\n",
            "Epoch 4/20\n",
            "112/112 [==============================] - 3s 23ms/step - loss: 0.6685 - accuracy: 0.8321 - val_loss: 1.9790 - val_accuracy: 0.6000\n",
            "Epoch 5/20\n",
            "112/112 [==============================] - 3s 23ms/step - loss: 0.3566 - accuracy: 0.9054 - val_loss: 1.7981 - val_accuracy: 0.6286\n",
            "Epoch 6/20\n",
            "112/112 [==============================] - 3s 24ms/step - loss: 0.4720 - accuracy: 0.9036 - val_loss: 2.1263 - val_accuracy: 0.6000\n",
            "Epoch 7/20\n",
            "112/112 [==============================] - 3s 24ms/step - loss: 0.3702 - accuracy: 0.9179 - val_loss: 2.0250 - val_accuracy: 0.5929\n",
            "Epoch 8/20\n",
            "112/112 [==============================] - 3s 24ms/step - loss: 0.1975 - accuracy: 0.9607 - val_loss: 1.9816 - val_accuracy: 0.6357\n",
            "Epoch 9/20\n",
            "112/112 [==============================] - 3s 24ms/step - loss: 0.2067 - accuracy: 0.9500 - val_loss: 1.9586 - val_accuracy: 0.6429\n",
            "Epoch 10/20\n",
            "112/112 [==============================] - 3s 23ms/step - loss: 0.2318 - accuracy: 0.9554 - val_loss: 2.0024 - val_accuracy: 0.6286\n",
            "Epoch 11/20\n",
            "112/112 [==============================] - 3s 23ms/step - loss: 0.1500 - accuracy: 0.9750 - val_loss: 2.3811 - val_accuracy: 0.6214\n",
            "Epoch 12/20\n",
            "112/112 [==============================] - 3s 24ms/step - loss: 0.1053 - accuracy: 0.9714 - val_loss: 1.7090 - val_accuracy: 0.6786\n",
            "Epoch 13/20\n",
            "112/112 [==============================] - 3s 24ms/step - loss: 0.1915 - accuracy: 0.9643 - val_loss: 1.7076 - val_accuracy: 0.7071\n",
            "Epoch 14/20\n",
            "112/112 [==============================] - 3s 24ms/step - loss: 0.1080 - accuracy: 0.9732 - val_loss: 1.8119 - val_accuracy: 0.6857\n",
            "Epoch 15/20\n",
            "112/112 [==============================] - 3s 24ms/step - loss: 0.0957 - accuracy: 0.9679 - val_loss: 1.6927 - val_accuracy: 0.6786\n",
            "Epoch 16/20\n",
            "112/112 [==============================] - 3s 24ms/step - loss: 0.1768 - accuracy: 0.9661 - val_loss: 2.0866 - val_accuracy: 0.6286\n",
            "Epoch 17/20\n",
            "112/112 [==============================] - 3s 24ms/step - loss: 0.3475 - accuracy: 0.9429 - val_loss: 2.1886 - val_accuracy: 0.5929\n",
            "Epoch 18/20\n",
            "112/112 [==============================] - 3s 24ms/step - loss: 0.2613 - accuracy: 0.9357 - val_loss: 1.8935 - val_accuracy: 0.6286\n",
            "Epoch 19/20\n",
            "112/112 [==============================] - 3s 24ms/step - loss: 0.1665 - accuracy: 0.9554 - val_loss: 1.8002 - val_accuracy: 0.6714\n",
            "Epoch 20/20\n",
            "112/112 [==============================] - 3s 24ms/step - loss: 0.1012 - accuracy: 0.9804 - val_loss: 1.7983 - val_accuracy: 0.6643\n"
          ]
        }
      ]
    },
    {
      "cell_type": "code",
      "source": [
        "print(classify_train.history.keys())\n",
        "# summarize history for accuracy\n",
        "plt.plot(classify_train.history['accuracy'])\n",
        "plt.plot(classify_train.history['val_accuracy'])\n",
        "plt.title('model accuracy')\n",
        "plt.ylabel('accuracy')\n",
        "plt.xlabel('epoch')\n",
        "plt.legend(['train', 'test'], loc='upper left')\n",
        "plt.show()\n",
        "# summarize history for loss\n",
        "plt.plot(classify_train.history['loss'])\n",
        "plt.plot(classify_train.history['val_loss'])\n",
        "plt.title('model loss')\n",
        "plt.ylabel('loss')\n",
        "plt.xlabel('epoch')\n",
        "plt.legend(['train', 'test'], loc='upper left')\n",
        "plt.show()"
      ],
      "metadata": {
        "id": "LIRyPCcIRYgg",
        "colab": {
          "base_uri": "https://localhost:8080/",
          "height": 590
        },
        "outputId": "e4616554-4efb-43ee-b8ef-cf3f9b91f1ad"
      },
      "execution_count": null,
      "outputs": [
        {
          "output_type": "stream",
          "name": "stdout",
          "text": [
            "dict_keys(['loss', 'accuracy', 'val_loss', 'val_accuracy'])\n"
          ]
        },
        {
          "output_type": "display_data",
          "data": {
            "text/plain": [
              "<Figure size 432x288 with 1 Axes>"
            ],
            "image/png": "[encoded data removed]"
          },
          "metadata": {
            "needs_background": "light"
          }
        },
        {
          "output_type": "display_data",
          "data": {
            "text/plain": [
              "<Figure size 432x288 with 1 Axes>"
            ],
            "image/png": "[encoded data removed]"
          },
          "metadata": {
            "needs_background": "light"
          }
        }
      ]
    },
    {
      "cell_type": "code",
      "source": [
        "test_eval = autoencoderClassifier.evaluate(valid_X, valid_label, verbose=0)\n"
      ],
      "metadata": {
        "id": "WOYd4kW7j1ts"
      },
      "execution_count": null,
      "outputs": []
    },
    {
      "cell_type": "code",
      "source": [
        "print('Test loss:', test_eval[0])\n",
        "print('Test accuracy:', test_eval[1])"
      ],
      "metadata": {
        "id": "l4WAepL1jddl",
        "colab": {
          "base_uri": "https://localhost:8080/"
        },
        "outputId": "3e1a0ce6-3a31-44b7-aa4d-f25711191d50"
      },
      "execution_count": null,
      "outputs": [
        {
          "output_type": "stream",
          "name": "stdout",
          "text": [
            "Test loss: 1.7982896566390991\n",
            "Test accuracy: 0.6642857193946838\n"
          ]
        }
      ]
    },
    {
      "cell_type": "code",
      "source": [
        "predicted_classes = autoencoderClassifier.predict(X)\n"
      ],
      "metadata": {
        "id": "gIJ9UoOvnLhI",
        "colab": {
          "base_uri": "https://localhost:8080/"
        },
        "outputId": "d26ffb75-4265-42cd-b544-83ba7d4f87b0"
      },
      "execution_count": null,
      "outputs": [
        {
          "output_type": "stream",
          "name": "stdout",
          "text": [
            "22/22 [==============================] - 3s 97ms/step\n"
          ]
        }
      ]
    },
    {
      "cell_type": "code",
      "source": [
        "predicted_classes = np.argmax(np.round(predicted_classes),axis=1)\n"
      ],
      "metadata": {
        "id": "xARTkBPDnTa0"
      },
      "execution_count": null,
      "outputs": []
    },
    {
      "cell_type": "code",
      "source": [
        "predicted_classes"
      ],
      "metadata": {
        "id": "_-G9o-4AgenH",
        "colab": {
          "base_uri": "https://localhost:8080/"
        },
        "outputId": "7553ba74-cb90-4823-e293-ee6d796df622"
      },
      "execution_count": null,
      "outputs": [
        {
          "output_type": "execute_result",
          "data": {
            "text/plain": [
              "array([ 0,  1,  2,  3,  4,  5,  6,  7,  8,  9, 10, 11, 12, 13, 14, 15, 16,\n",
              "       17, 18, 19, 20, 21, 22, 23, 24, 25, 26, 27, 28, 29, 30, 31, 32, 33,\n",
              "       34, 35, 36, 37, 38, 39, 40, 41, 42, 43, 44, 45, 46, 47, 48, 49, 50,\n",
              "       51, 52, 53, 54, 55, 56, 57, 58, 59, 60, 61, 62, 63, 64, 65, 66, 67,\n",
              "       68, 69, 70, 71, 72, 73, 74, 75, 76, 77, 78, 79, 80, 81, 82, 83, 84,\n",
              "       85, 86, 87, 88, 89, 90, 91, 92, 93, 94, 95, 96, 97, 98, 99,  0,  0,\n",
              "        2,  3,  4,  5,  6,  7,  8,  9, 10, 11, 12, 13, 14, 15, 16, 17, 18,\n",
              "       19, 20, 21, 22, 23,  0, 25, 26, 27, 28, 29, 30, 31, 32, 33, 34, 35,\n",
              "       36, 37, 38,  0, 40, 41, 42, 43, 44, 45, 46, 47, 48,  0, 50, 51, 52,\n",
              "       53, 54,  0, 56, 57, 58, 59, 60, 61, 62, 63, 64, 65, 66, 67, 68, 69,\n",
              "       70, 71, 72, 73, 74, 75, 76, 77, 78, 79, 80, 81, 82, 83, 84, 85, 86,\n",
              "       87, 88, 89, 90, 91, 92, 93, 94,  0, 96, 97, 98, 99,  0,  1,  2,  0,\n",
              "        4,  5,  6,  7,  8,  9, 10, 11, 12, 13, 14, 15, 16, 17, 18, 19, 20,\n",
              "       21, 22, 23, 24, 25, 26, 27, 28, 29, 96, 31, 32, 33, 34, 35, 36, 37,\n",
              "       38, 39, 40, 41, 42, 43, 44, 45, 46, 47, 48, 49, 50, 51, 52, 53, 54,\n",
              "       55, 56, 57, 58, 59, 60, 61, 62, 63, 64, 65, 66, 67, 68, 69, 70, 71,\n",
              "       72, 73, 74, 75, 76, 77, 78, 79, 80, 81, 82, 83, 84, 85, 86, 87, 88,\n",
              "       89, 90, 91, 92, 93, 94, 95, 96, 97, 98, 99,  0,  1,  2,  0,  4,  5,\n",
              "        6,  7,  8,  9, 10, 11, 12, 13, 14, 15, 16, 17, 18, 19, 20, 21, 22,\n",
              "       23, 24, 25, 26, 27, 34, 29, 30, 31, 32, 33, 34, 35, 36, 37, 38, 39,\n",
              "       40, 41, 42, 43, 44, 45, 46, 47, 48, 49, 50, 51, 52, 53, 54, 55, 56,\n",
              "       57, 58, 59, 60, 61, 62, 63, 64, 65, 66, 67, 68, 69, 70, 71, 72,  0,\n",
              "       74, 75, 76, 77, 78, 79, 80, 81, 82, 83, 84, 85, 86, 87, 88, 89, 90,\n",
              "       91, 92, 93, 94, 95, 96, 97, 98, 99, 33, 81,  2,  3,  4,  0,  6,  7,\n",
              "        8,  9, 10, 11,  0, 13, 14, 15, 16,  0, 18,  0, 20, 21, 22, 23, 24,\n",
              "       25,  0, 27, 28, 29, 30, 31, 32, 33, 34, 35, 36, 37, 38, 39,  0, 41,\n",
              "       42, 43, 44, 45, 46, 47, 48, 49,  0, 51,  0, 53, 54, 55, 56, 57, 58,\n",
              "        0, 60, 61, 62, 63, 64, 65, 66, 67, 68, 75, 70, 71, 72, 73, 74, 75,\n",
              "        0, 77, 78, 79, 80, 81,  0, 83,  0,  0, 86, 87, 88, 89, 90,  0, 92,\n",
              "       93, 94,  0, 96, 97, 98, 99,  0,  1,  2,  3,  4,  5,  6,  7,  8,  9,\n",
              "        0, 11, 12, 13, 14, 15, 16, 17, 18, 19, 20, 21, 22, 23, 24, 25, 26,\n",
              "       27,  0, 29, 30,  0, 32, 33, 34, 35,  0, 37, 38, 39, 40,  0, 42, 43,\n",
              "       44, 45, 46, 47, 48, 49, 50, 51, 52, 53, 54, 55, 56, 57, 58, 59, 60,\n",
              "       61, 62, 63, 64, 65, 66,  0,  0, 69, 70, 71, 72, 58, 74, 75, 76, 77,\n",
              "       78, 79, 80, 81,  0, 83, 84, 85, 86, 87, 88, 89, 90, 91, 92, 93,  0,\n",
              "       95, 96, 97, 98, 99,  0,  1,  2,  3,  0,  5,  6,  0,  8,  9, 43,  0,\n",
              "       12,  0, 14, 15,  0,  0, 18, 19, 20, 21, 22, 23, 24, 25, 26, 27, 28,\n",
              "       29, 30, 31,  0, 33, 34,  0, 36, 37, 38,  0,  0, 41,  0, 43, 44, 64,\n",
              "        0, 47, 48, 49, 50, 51, 52, 53, 54, 55, 56, 57, 58, 59, 60, 61, 62,\n",
              "       63, 64,  0, 66, 67, 68, 69, 70, 71, 72, 73,  0, 75, 76, 77, 78, 79,\n",
              "       80, 81, 82, 83, 84, 85, 86, 87, 88, 89, 90, 91, 92, 93,  0, 64, 96,\n",
              "       97, 98, 99])"
            ]
          },
          "metadata": {},
          "execution_count": 34
        }
      ]
    },
    {
      "cell_type": "code",
      "source": [
        "predicted_classes.shape, Yvalues.shape\n"
      ],
      "metadata": {
        "id": "_0yWGtZInXm-",
        "colab": {
          "base_uri": "https://localhost:8080/"
        },
        "outputId": "1ff607bb-6645-4007-a54a-44a3bbeaf473"
      },
      "execution_count": null,
      "outputs": [
        {
          "output_type": "execute_result",
          "data": {
            "text/plain": [
              "((700,), (700,))"
            ]
          },
          "metadata": {},
          "execution_count": 35
        }
      ]
    },
    {
      "cell_type": "code",
      "source": [
        "incorrect = np.where(predicted_classes!=Yvalues)[0]\n",
        "print (\"Found %d incorrect labels\" % len(incorrect))\n",
        "for i, incorrect in enumerate(incorrect[:9]):\n",
        "    plt.subplot(3,3,i+1)\n",
        "    plt.imshow(X[incorrect].reshape(224,672,3), interpolation='none')\n",
        "    plt.title(\"Predicted {}, Class {}\".format(predicted_classes[incorrect], Yvalues[incorrect]))\n",
        "    plt.tight_layout()"
      ],
      "metadata": {
        "id": "UXKufg3soFs6",
        "colab": {
          "base_uri": "https://localhost:8080/"
        },
        "outputId": "620f33dc-83a4-4ce7-d90b-058b77d6ada9"
      },
      "execution_count": null,
      "outputs": [
        {
          "output_type": "stream",
          "name": "stdout",
          "text": [
            "Found 57 incorrect labels\n"
          ]
        },
        {
          "output_type": "display_data",
          "data": {
            "text/plain": [
              "<Figure size 432x288 with 7 Axes>"
            ],
            "image/png": "[encoded data removed]"
          },
          "metadata": {
            "needs_background": "light"
          }
        }
      ]
    },
    {
      "cell_type": "code",
      "source": [
        "from sklearn.metrics import classification_report\n",
        "target_names = [\"Class {}\".format(i) for i in range(num_classes)]\n",
        "print(classification_report(Yvalues, predicted_classes, target_names=target_names))"
      ],
      "metadata": {
        "id": "bzWndrcphUBA",
        "colab": {
          "base_uri": "https://localhost:8080/"
        },
        "outputId": "2e3a72ed-5641-4af8-b42f-132e074bbe44"
      },
      "execution_count": null,
      "outputs": [
        {
          "output_type": "stream",
          "name": "stdout",
          "text": [
            "              precision    recall  f1-score   support\n",
            "\n",
            "     Class 0       0.11      0.86      0.20         7\n",
            "     Class 1       1.00      0.71      0.83         7\n",
            "     Class 2       1.00      1.00      1.00         7\n",
            "     Class 3       1.00      0.71      0.83         7\n",
            "     Class 4       1.00      0.86      0.92         7\n",
            "     Class 5       1.00      0.86      0.92         7\n",
            "     Class 6       1.00      1.00      1.00         7\n",
            "     Class 7       1.00      0.86      0.92         7\n",
            "     Class 8       1.00      1.00      1.00         7\n",
            "     Class 9       1.00      1.00      1.00         7\n",
            "    Class 10       1.00      0.71      0.83         7\n",
            "    Class 11       1.00      0.86      0.92         7\n",
            "    Class 12       1.00      0.86      0.92         7\n",
            "    Class 13       1.00      0.86      0.92         7\n",
            "    Class 14       1.00      1.00      1.00         7\n",
            "    Class 15       1.00      1.00      1.00         7\n",
            "    Class 16       1.00      0.86      0.92         7\n",
            "    Class 17       1.00      0.71      0.83         7\n",
            "    Class 18       1.00      1.00      1.00         7\n",
            "    Class 19       1.00      0.86      0.92         7\n",
            "    Class 20       1.00      1.00      1.00         7\n",
            "    Class 21       1.00      1.00      1.00         7\n",
            "    Class 22       1.00      1.00      1.00         7\n",
            "    Class 23       1.00      1.00      1.00         7\n",
            "    Class 24       1.00      0.86      0.92         7\n",
            "    Class 25       1.00      1.00      1.00         7\n",
            "    Class 26       1.00      0.86      0.92         7\n",
            "    Class 27       1.00      1.00      1.00         7\n",
            "    Class 28       1.00      0.71      0.83         7\n",
            "    Class 29       1.00      1.00      1.00         7\n",
            "    Class 30       1.00      0.86      0.92         7\n",
            "    Class 31       1.00      0.86      0.92         7\n",
            "    Class 32       1.00      0.86      0.92         7\n",
            "    Class 33       0.88      1.00      0.93         7\n",
            "    Class 34       0.88      1.00      0.93         7\n",
            "    Class 35       1.00      0.86      0.92         7\n",
            "    Class 36       1.00      0.86      0.92         7\n",
            "    Class 37       1.00      1.00      1.00         7\n",
            "    Class 38       1.00      1.00      1.00         7\n",
            "    Class 39       1.00      0.71      0.83         7\n",
            "    Class 40       1.00      0.71      0.83         7\n",
            "    Class 41       1.00      0.86      0.92         7\n",
            "    Class 42       1.00      0.86      0.92         7\n",
            "    Class 43       0.88      1.00      0.93         7\n",
            "    Class 44       1.00      1.00      1.00         7\n",
            "    Class 45       1.00      0.86      0.92         7\n",
            "    Class 46       1.00      0.86      0.92         7\n",
            "    Class 47       1.00      1.00      1.00         7\n",
            "    Class 48       1.00      1.00      1.00         7\n",
            "    Class 49       1.00      0.86      0.92         7\n",
            "    Class 50       1.00      0.86      0.92         7\n",
            "    Class 51       1.00      1.00      1.00         7\n",
            "    Class 52       1.00      0.86      0.92         7\n",
            "    Class 53       1.00      1.00      1.00         7\n",
            "    Class 54       1.00      1.00      1.00         7\n",
            "    Class 55       1.00      0.86      0.92         7\n",
            "    Class 56       1.00      1.00      1.00         7\n",
            "    Class 57       1.00      1.00      1.00         7\n",
            "    Class 58       0.88      1.00      0.93         7\n",
            "    Class 59       1.00      0.86      0.92         7\n",
            "    Class 60       1.00      1.00      1.00         7\n",
            "    Class 61       1.00      1.00      1.00         7\n",
            "    Class 62       1.00      1.00      1.00         7\n",
            "    Class 63       1.00      1.00      1.00         7\n",
            "    Class 64       0.78      1.00      0.88         7\n",
            "    Class 65       1.00      0.86      0.92         7\n",
            "    Class 66       1.00      1.00      1.00         7\n",
            "    Class 67       1.00      0.86      0.92         7\n",
            "    Class 68       1.00      0.86      0.92         7\n",
            "    Class 69       1.00      0.86      0.92         7\n",
            "    Class 70       1.00      1.00      1.00         7\n",
            "    Class 71       1.00      1.00      1.00         7\n",
            "    Class 72       1.00      1.00      1.00         7\n",
            "    Class 73       1.00      0.71      0.83         7\n",
            "    Class 74       1.00      0.86      0.92         7\n",
            "    Class 75       0.88      1.00      0.93         7\n",
            "    Class 76       1.00      0.86      0.92         7\n",
            "    Class 77       1.00      1.00      1.00         7\n",
            "    Class 78       1.00      1.00      1.00         7\n",
            "    Class 79       1.00      1.00      1.00         7\n",
            "    Class 80       1.00      1.00      1.00         7\n",
            "    Class 81       0.88      1.00      0.93         7\n",
            "    Class 82       1.00      0.71      0.83         7\n",
            "    Class 83       1.00      1.00      1.00         7\n",
            "    Class 84       1.00      0.86      0.92         7\n",
            "    Class 85       1.00      0.86      0.92         7\n",
            "    Class 86       1.00      1.00      1.00         7\n",
            "    Class 87       1.00      1.00      1.00         7\n",
            "    Class 88       1.00      1.00      1.00         7\n",
            "    Class 89       1.00      1.00      1.00         7\n",
            "    Class 90       1.00      1.00      1.00         7\n",
            "    Class 91       1.00      0.86      0.92         7\n",
            "    Class 92       1.00      1.00      1.00         7\n",
            "    Class 93       1.00      1.00      1.00         7\n",
            "    Class 94       1.00      0.71      0.83         7\n",
            "    Class 95       1.00      0.57      0.73         7\n",
            "    Class 96       0.88      1.00      0.93         7\n",
            "    Class 97       1.00      1.00      1.00         7\n",
            "    Class 98       1.00      1.00      1.00         7\n",
            "    Class 99       1.00      1.00      1.00         7\n",
            "\n",
            "    accuracy                           0.92       700\n",
            "   macro avg       0.98      0.92      0.94       700\n",
            "weighted avg       0.98      0.92      0.94       700\n",
            "\n"
          ]
        }
      ]
    },
    {
      "cell_type": "code",
      "source": [
        "autoencoderClassifier.save('1.EncoderClassifierFinal.h5')"
      ],
      "metadata": {
        "id": "k2swajC8hUOL"
      },
      "execution_count": null,
      "outputs": []
    }
  ]
}